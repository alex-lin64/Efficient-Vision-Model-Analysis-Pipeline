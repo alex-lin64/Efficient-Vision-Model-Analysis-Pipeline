{
 "cells": [
  {
   "cell_type": "code",
   "execution_count": 4,
   "metadata": {},
   "outputs": [],
   "source": [
    "import fiftyone as fo"
   ]
  },
  {
   "cell_type": "code",
   "execution_count": 5,
   "metadata": {},
   "outputs": [
    {
     "name": "stdout",
     "output_type": "stream",
     "text": [
      "c:\\Users\\Alex Lin\\Desktop\\baseline_system\n"
     ]
    },
    {
     "data": {
      "text/plain": [
       "'c:\\\\Users\\\\Alex Lin\\\\Desktop\\\\baseline_system'"
      ]
     },
     "execution_count": 5,
     "metadata": {},
     "output_type": "execute_result"
    }
   ],
   "source": [
    "%cd \"c:\\Users\\Alex Lin\\Desktop\\baseline_system\"\n",
    "%pwd"
   ]
  },
  {
   "cell_type": "code",
   "execution_count": 6,
   "metadata": {},
   "outputs": [
    {
     "name": "stdout",
     "output_type": "stream",
     "text": [
      " 100% |█████████████████████| 4/4 [24.4ms elapsed, 0s remaining, 163.7 samples/s]    \n"
     ]
    }
   ],
   "source": [
    "dataset = fo.Dataset.from_dir(\n",
    "    \"data/\",\n",
    "    dataset_type = fo.types.ImageDirectory,\n",
    "    name = \"test_dataset5\"\n",
    ")\n"
   ]
  },
  {
   "cell_type": "code",
   "execution_count": 7,
   "metadata": {},
   "outputs": [
    {
     "name": "stdout",
     "output_type": "stream",
     "text": [
      "\n",
      "Could not connect session, trying again in 10 seconds\n",
      "\n",
      "Session launched. Run `session.show()` to open the App in a cell output.\n"
     ]
    },
    {
     "data": {
      "application/javascript": "window.open('http://localhost:5151/');",
      "text/plain": [
       "<IPython.core.display.Javascript object>"
      ]
     },
     "metadata": {},
     "output_type": "display_data"
    }
   ],
   "source": [
    "session = fo.launch_app(auto=False)\n",
    "session.open_tab()"
   ]
  },
  {
   "cell_type": "code",
   "execution_count": 13,
   "metadata": {},
   "outputs": [
    {
     "name": "stdout",
     "output_type": "stream",
     "text": [
      "env: FIFTYONE_CVAT_USERNAME=\"django\"\n",
      "env: FIFTYONE_CVAT_PASSWORD=\"bfc\"\n"
     ]
    }
   ],
   "source": [
    "# set enrionment vars\n",
    "%env FIFTYONE_CVAT_USERNAME=\"django\"\n",
    "%env FIFTYONE_CVAT_PASSWORD=\"bfc\""
   ]
  },
  {
   "cell_type": "code",
   "execution_count": 17,
   "metadata": {},
   "outputs": [
    {
     "name": "stdout",
     "output_type": "stream",
     "text": [
      "Please enter your login credentials.\n",
      "You can avoid this in the future by setting your `FIFTYONE_CVAT_USERNAME` and `FIFTYONE_CVAT_PASSWORD` environment variables\n"
     ]
    },
    {
     "ename": "HTTPError",
     "evalue": "400 Client Error: Bad Request for url: https://app.cvat.ai/api/auth/login",
     "output_type": "error",
     "traceback": [
      "\u001b[1;31m---------------------------------------------------------------------------\u001b[0m",
      "\u001b[1;31mHTTPError\u001b[0m                                 Traceback (most recent call last)",
      "Cell \u001b[1;32mIn[17], line 7\u001b[0m\n\u001b[0;32m      4\u001b[0m anno_key \u001b[39m=\u001b[39m \u001b[39m\"\u001b[39m\u001b[39mtest_run1\u001b[39m\u001b[39m\"\u001b[39m\n\u001b[0;32m      6\u001b[0m \u001b[39m# upload samples, run cvat\u001b[39;00m\n\u001b[1;32m----> 7\u001b[0m anno_results \u001b[39m=\u001b[39m selected_view\u001b[39m.\u001b[39;49mannotate(\n\u001b[0;32m      8\u001b[0m     anno_key,\n\u001b[0;32m      9\u001b[0m     label_field\u001b[39m=\u001b[39;49m\u001b[39m\"\u001b[39;49m\u001b[39m\"\u001b[39;49m,\n\u001b[0;32m     10\u001b[0m     label_type\u001b[39m=\u001b[39;49m\u001b[39m\"\u001b[39;49m\u001b[39mdetections\u001b[39;49m\u001b[39m\"\u001b[39;49m,\n\u001b[0;32m     11\u001b[0m     classes\u001b[39m=\u001b[39;49m[\u001b[39m'\u001b[39;49m\u001b[39mhorse\u001b[39;49m\u001b[39m'\u001b[39;49m, \u001b[39m'\u001b[39;49m\u001b[39mperson\u001b[39;49m\u001b[39m'\u001b[39;49m, \u001b[39m'\u001b[39;49m\u001b[39mdog\u001b[39;49m\u001b[39m'\u001b[39;49m, \u001b[39m'\u001b[39;49m\u001b[39mbike\u001b[39;49m\u001b[39m'\u001b[39;49m, \u001b[39m'\u001b[39;49m\u001b[39mcar\u001b[39;49m\u001b[39m'\u001b[39;49m],\n\u001b[0;32m     12\u001b[0m     launch_editor\u001b[39m=\u001b[39;49m\u001b[39mTrue\u001b[39;49;00m\n\u001b[0;32m     13\u001b[0m )\n\u001b[0;32m     15\u001b[0m \u001b[39m# print status\u001b[39;00m\n\u001b[0;32m     16\u001b[0m status \u001b[39m=\u001b[39m anno_results\u001b[39m.\u001b[39mget_status()\n",
      "File \u001b[1;32mc:\\Users\\Alex Lin\\.conda\\envs\\yolov7\\lib\\site-packages\\fiftyone\\core\\collections.py:8262\u001b[0m, in \u001b[0;36mSampleCollection.annotate\u001b[1;34m(self, anno_key, label_schema, label_field, label_type, classes, attributes, mask_targets, allow_additions, allow_deletions, allow_label_edits, allow_index_edits, allow_spatial_edits, media_field, backend, launch_editor, **kwargs)\u001b[0m\n\u001b[0;32m   8133\u001b[0m \u001b[39mdef\u001b[39;00m \u001b[39mannotate\u001b[39m(\n\u001b[0;32m   8134\u001b[0m     \u001b[39mself\u001b[39m,\n\u001b[0;32m   8135\u001b[0m     anno_key,\n\u001b[1;32m   (...)\u001b[0m\n\u001b[0;32m   8150\u001b[0m     \u001b[39m*\u001b[39m\u001b[39m*\u001b[39mkwargs,\n\u001b[0;32m   8151\u001b[0m ):\n\u001b[0;32m   8152\u001b[0m \u001b[39m    \u001b[39m\u001b[39m\"\"\"Exports the samples and optional label field(s) in this collection\u001b[39;00m\n\u001b[0;32m   8153\u001b[0m \u001b[39m    to the given annotation backend.\u001b[39;00m\n\u001b[0;32m   8154\u001b[0m \n\u001b[1;32m   (...)\u001b[0m\n\u001b[0;32m   8260\u001b[0m \u001b[39m        an :class:`fiftyone.utils.annotations.AnnnotationResults`\u001b[39;00m\n\u001b[0;32m   8261\u001b[0m \u001b[39m    \"\"\"\u001b[39;00m\n\u001b[1;32m-> 8262\u001b[0m     \u001b[39mreturn\u001b[39;00m foua\u001b[39m.\u001b[39mannotate(\n\u001b[0;32m   8263\u001b[0m         \u001b[39mself\u001b[39m,\n\u001b[0;32m   8264\u001b[0m         anno_key,\n\u001b[0;32m   8265\u001b[0m         label_schema\u001b[39m=\u001b[39mlabel_schema,\n\u001b[0;32m   8266\u001b[0m         label_field\u001b[39m=\u001b[39mlabel_field,\n\u001b[0;32m   8267\u001b[0m         label_type\u001b[39m=\u001b[39mlabel_type,\n\u001b[0;32m   8268\u001b[0m         classes\u001b[39m=\u001b[39mclasses,\n\u001b[0;32m   8269\u001b[0m         attributes\u001b[39m=\u001b[39mattributes,\n\u001b[0;32m   8270\u001b[0m         mask_targets\u001b[39m=\u001b[39mmask_targets,\n\u001b[0;32m   8271\u001b[0m         allow_additions\u001b[39m=\u001b[39mallow_additions,\n\u001b[0;32m   8272\u001b[0m         allow_deletions\u001b[39m=\u001b[39mallow_deletions,\n\u001b[0;32m   8273\u001b[0m         allow_label_edits\u001b[39m=\u001b[39mallow_label_edits,\n\u001b[0;32m   8274\u001b[0m         allow_index_edits\u001b[39m=\u001b[39mallow_index_edits,\n\u001b[0;32m   8275\u001b[0m         allow_spatial_edits\u001b[39m=\u001b[39mallow_spatial_edits,\n\u001b[0;32m   8276\u001b[0m         media_field\u001b[39m=\u001b[39mmedia_field,\n\u001b[0;32m   8277\u001b[0m         backend\u001b[39m=\u001b[39mbackend,\n\u001b[0;32m   8278\u001b[0m         launch_editor\u001b[39m=\u001b[39mlaunch_editor,\n\u001b[0;32m   8279\u001b[0m         \u001b[39m*\u001b[39m\u001b[39m*\u001b[39mkwargs,\n\u001b[0;32m   8280\u001b[0m     )\n",
      "File \u001b[1;32mc:\\Users\\Alex Lin\\.conda\\envs\\yolov7\\lib\\site-packages\\fiftyone\\utils\\annotations.py:247\u001b[0m, in \u001b[0;36mannotate\u001b[1;34m(samples, anno_key, label_schema, label_field, label_type, classes, attributes, mask_targets, allow_additions, allow_deletions, allow_label_edits, allow_index_edits, allow_spatial_edits, media_field, backend, launch_editor, **kwargs)\u001b[0m\n\u001b[0;32m    242\u001b[0m \u001b[39m# Don't allow overwriting an existing run with same `anno_key`, since we\u001b[39;00m\n\u001b[0;32m    243\u001b[0m \u001b[39m# need the existing run in order to perform workflows like automatically\u001b[39;00m\n\u001b[0;32m    244\u001b[0m \u001b[39m# cleaning up the backend's tasks\u001b[39;00m\n\u001b[0;32m    245\u001b[0m anno_backend\u001b[39m.\u001b[39mregister_run(samples, anno_key, overwrite\u001b[39m=\u001b[39m\u001b[39mFalse\u001b[39;00m)\n\u001b[1;32m--> 247\u001b[0m results \u001b[39m=\u001b[39m anno_backend\u001b[39m.\u001b[39;49mupload_annotations(\n\u001b[0;32m    248\u001b[0m     samples, anno_key, launch_editor\u001b[39m=\u001b[39;49mlaunch_editor\n\u001b[0;32m    249\u001b[0m )\n\u001b[0;32m    251\u001b[0m anno_backend\u001b[39m.\u001b[39msave_run_results(samples, anno_key, results)\n\u001b[0;32m    253\u001b[0m \u001b[39mreturn\u001b[39;00m results\n",
      "File \u001b[1;32mc:\\Users\\Alex Lin\\.conda\\envs\\yolov7\\lib\\site-packages\\fiftyone\\utils\\cvat.py:3285\u001b[0m, in \u001b[0;36mCVATBackend.upload_annotations\u001b[1;34m(self, samples, anno_key, launch_editor)\u001b[0m\n\u001b[0;32m   3284\u001b[0m \u001b[39mdef\u001b[39;00m \u001b[39mupload_annotations\u001b[39m(\u001b[39mself\u001b[39m, samples, anno_key, launch_editor\u001b[39m=\u001b[39m\u001b[39mFalse\u001b[39;00m):\n\u001b[1;32m-> 3285\u001b[0m     api \u001b[39m=\u001b[39m \u001b[39mself\u001b[39;49m\u001b[39m.\u001b[39;49mconnect_to_api()\n\u001b[0;32m   3286\u001b[0m     results \u001b[39m=\u001b[39m api\u001b[39m.\u001b[39mupload_samples(samples, anno_key, \u001b[39mself\u001b[39m)\n\u001b[0;32m   3288\u001b[0m     \u001b[39mif\u001b[39;00m launch_editor:\n",
      "File \u001b[1;32mc:\\Users\\Alex Lin\\.conda\\envs\\yolov7\\lib\\site-packages\\fiftyone\\utils\\annotations.py:1970\u001b[0m, in \u001b[0;36mAnnotationBackend.connect_to_api\u001b[1;34m(self)\u001b[0m\n\u001b[0;32m   1958\u001b[0m \u001b[39m\u001b[39m\u001b[39m\"\"\"Returns an API instance connected to the annotation backend.\u001b[39;00m\n\u001b[0;32m   1959\u001b[0m \n\u001b[0;32m   1960\u001b[0m \u001b[39mExisting API instances are reused, if available.\u001b[39;00m\n\u001b[1;32m   (...)\u001b[0m\n\u001b[0;32m   1966\u001b[0m \u001b[39m    expose an API\u001b[39;00m\n\u001b[0;32m   1967\u001b[0m \u001b[39m\"\"\"\u001b[39;00m\n\u001b[0;32m   1968\u001b[0m \u001b[39mif\u001b[39;00m \u001b[39mself\u001b[39m\u001b[39m.\u001b[39m_api \u001b[39mis\u001b[39;00m \u001b[39mNone\u001b[39;00m:\n\u001b[0;32m   1969\u001b[0m     \u001b[39m# pylint: disable=assignment-from-none\u001b[39;00m\n\u001b[1;32m-> 1970\u001b[0m     \u001b[39mself\u001b[39m\u001b[39m.\u001b[39m_api \u001b[39m=\u001b[39m \u001b[39mself\u001b[39;49m\u001b[39m.\u001b[39;49m_connect_to_api()\n\u001b[0;32m   1972\u001b[0m \u001b[39mreturn\u001b[39;00m \u001b[39mself\u001b[39m\u001b[39m.\u001b[39m_api\n",
      "File \u001b[1;32mc:\\Users\\Alex Lin\\.conda\\envs\\yolov7\\lib\\site-packages\\fiftyone\\utils\\cvat.py:3275\u001b[0m, in \u001b[0;36mCVATBackend._connect_to_api\u001b[1;34m(self)\u001b[0m\n\u001b[0;32m   3274\u001b[0m \u001b[39mdef\u001b[39;00m \u001b[39m_connect_to_api\u001b[39m(\u001b[39mself\u001b[39m):\n\u001b[1;32m-> 3275\u001b[0m     \u001b[39mreturn\u001b[39;00m CVATAnnotationAPI(\n\u001b[0;32m   3276\u001b[0m         \u001b[39mself\u001b[39;49m\u001b[39m.\u001b[39;49mconfig\u001b[39m.\u001b[39;49mname,\n\u001b[0;32m   3277\u001b[0m         \u001b[39mself\u001b[39;49m\u001b[39m.\u001b[39;49mconfig\u001b[39m.\u001b[39;49murl,\n\u001b[0;32m   3278\u001b[0m         username\u001b[39m=\u001b[39;49m\u001b[39mself\u001b[39;49m\u001b[39m.\u001b[39;49mconfig\u001b[39m.\u001b[39;49musername,\n\u001b[0;32m   3279\u001b[0m         password\u001b[39m=\u001b[39;49m\u001b[39mself\u001b[39;49m\u001b[39m.\u001b[39;49mconfig\u001b[39m.\u001b[39;49mpassword,\n\u001b[0;32m   3280\u001b[0m         headers\u001b[39m=\u001b[39;49m\u001b[39mself\u001b[39;49m\u001b[39m.\u001b[39;49mconfig\u001b[39m.\u001b[39;49mheaders,\n\u001b[0;32m   3281\u001b[0m         organization\u001b[39m=\u001b[39;49m\u001b[39mself\u001b[39;49m\u001b[39m.\u001b[39;49mconfig\u001b[39m.\u001b[39;49morganization,\n\u001b[0;32m   3282\u001b[0m     )\n",
      "File \u001b[1;32mc:\\Users\\Alex Lin\\.conda\\envs\\yolov7\\lib\\site-packages\\fiftyone\\utils\\cvat.py:3553\u001b[0m, in \u001b[0;36mCVATAnnotationAPI.__init__\u001b[1;34m(self, name, url, username, password, headers, organization)\u001b[0m\n\u001b[0;32m   3550\u001b[0m \u001b[39mself\u001b[39m\u001b[39m.\u001b[39m_user_id_map \u001b[39m=\u001b[39m {}\n\u001b[0;32m   3551\u001b[0m \u001b[39mself\u001b[39m\u001b[39m.\u001b[39m_project_id_map \u001b[39m=\u001b[39m {}\n\u001b[1;32m-> 3553\u001b[0m \u001b[39mself\u001b[39;49m\u001b[39m.\u001b[39;49m_setup()\n",
      "File \u001b[1;32mc:\\Users\\Alex Lin\\.conda\\envs\\yolov7\\lib\\site-packages\\fiftyone\\utils\\cvat.py:3715\u001b[0m, in \u001b[0;36mCVATAnnotationAPI._setup\u001b[1;34m(self)\u001b[0m\n\u001b[0;32m   3713\u001b[0m \u001b[39mexcept\u001b[39;00m requests\u001b[39m.\u001b[39mexceptions\u001b[39m.\u001b[39mHTTPError \u001b[39mas\u001b[39;00m e:\n\u001b[0;32m   3714\u001b[0m     \u001b[39mif\u001b[39;00m e\u001b[39m.\u001b[39mresponse\u001b[39m.\u001b[39mstatus_code \u001b[39m!=\u001b[39m \u001b[39m404\u001b[39m:\n\u001b[1;32m-> 3715\u001b[0m         \u001b[39mraise\u001b[39;00m e\n\u001b[0;32m   3717\u001b[0m     \u001b[39mself\u001b[39m\u001b[39m.\u001b[39m_server_version \u001b[39m=\u001b[39m Version(\u001b[39m\"\u001b[39m\u001b[39m1\u001b[39m\u001b[39m\"\u001b[39m)\n\u001b[0;32m   3718\u001b[0m     \u001b[39mself\u001b[39m\u001b[39m.\u001b[39m_login(username, password)\n",
      "File \u001b[1;32mc:\\Users\\Alex Lin\\.conda\\envs\\yolov7\\lib\\site-packages\\fiftyone\\utils\\cvat.py:3712\u001b[0m, in \u001b[0;36mCVATAnnotationAPI._setup\u001b[1;34m(self)\u001b[0m\n\u001b[0;32m   3709\u001b[0m \u001b[39mself\u001b[39m\u001b[39m.\u001b[39m_server_version \u001b[39m=\u001b[39m Version(\u001b[39m\"\u001b[39m\u001b[39m2\u001b[39m\u001b[39m\"\u001b[39m)\n\u001b[0;32m   3711\u001b[0m \u001b[39mtry\u001b[39;00m:\n\u001b[1;32m-> 3712\u001b[0m     \u001b[39mself\u001b[39;49m\u001b[39m.\u001b[39;49m_login(username, password)\n\u001b[0;32m   3713\u001b[0m \u001b[39mexcept\u001b[39;00m requests\u001b[39m.\u001b[39mexceptions\u001b[39m.\u001b[39mHTTPError \u001b[39mas\u001b[39;00m e:\n\u001b[0;32m   3714\u001b[0m     \u001b[39mif\u001b[39;00m e\u001b[39m.\u001b[39mresponse\u001b[39m.\u001b[39mstatus_code \u001b[39m!=\u001b[39m \u001b[39m404\u001b[39m:\n",
      "File \u001b[1;32mc:\\Users\\Alex Lin\\.conda\\envs\\yolov7\\lib\\site-packages\\fiftyone\\utils\\cvat.py:3756\u001b[0m, in \u001b[0;36mCVATAnnotationAPI._login\u001b[1;34m(self, username, password)\u001b[0m\n\u001b[0;32m   3755\u001b[0m \u001b[39mdef\u001b[39;00m \u001b[39m_login\u001b[39m(\u001b[39mself\u001b[39m, username, password):\n\u001b[1;32m-> 3756\u001b[0m     response \u001b[39m=\u001b[39m \u001b[39mself\u001b[39;49m\u001b[39m.\u001b[39;49m_make_request(\n\u001b[0;32m   3757\u001b[0m         \u001b[39mself\u001b[39;49m\u001b[39m.\u001b[39;49m_session\u001b[39m.\u001b[39;49mpost,\n\u001b[0;32m   3758\u001b[0m         \u001b[39mself\u001b[39;49m\u001b[39m.\u001b[39;49mlogin_url,\n\u001b[0;32m   3759\u001b[0m         print_error_info\u001b[39m=\u001b[39;49m\u001b[39mFalse\u001b[39;49;00m,\n\u001b[0;32m   3760\u001b[0m         json\u001b[39m=\u001b[39;49m{\u001b[39m\"\u001b[39;49m\u001b[39musername\u001b[39;49m\u001b[39m\"\u001b[39;49m: username, \u001b[39m\"\u001b[39;49m\u001b[39mpassword\u001b[39;49m\u001b[39m\"\u001b[39;49m: password},\n\u001b[0;32m   3761\u001b[0m     )\n\u001b[0;32m   3763\u001b[0m     \u001b[39mif\u001b[39;00m \u001b[39m\"\u001b[39m\u001b[39mcsrftoken\u001b[39m\u001b[39m\"\u001b[39m \u001b[39min\u001b[39;00m response\u001b[39m.\u001b[39mcookies:\n\u001b[0;32m   3764\u001b[0m         \u001b[39mself\u001b[39m\u001b[39m.\u001b[39m_session\u001b[39m.\u001b[39mheaders[\u001b[39m\"\u001b[39m\u001b[39mX-CSRFToken\u001b[39m\u001b[39m\"\u001b[39m] \u001b[39m=\u001b[39m response\u001b[39m.\u001b[39mcookies[\n\u001b[0;32m   3765\u001b[0m             \u001b[39m\"\u001b[39m\u001b[39mcsrftoken\u001b[39m\u001b[39m\"\u001b[39m\n\u001b[0;32m   3766\u001b[0m         ]\n",
      "File \u001b[1;32mc:\\Users\\Alex Lin\\.conda\\envs\\yolov7\\lib\\site-packages\\fiftyone\\utils\\cvat.py:3775\u001b[0m, in \u001b[0;36mCVATAnnotationAPI._make_request\u001b[1;34m(self, request_method, url, print_error_info, **kwargs)\u001b[0m\n\u001b[0;32m   3773\u001b[0m     \u001b[39mself\u001b[39m\u001b[39m.\u001b[39m_validate(response, kwargs)\n\u001b[0;32m   3774\u001b[0m \u001b[39melse\u001b[39;00m:\n\u001b[1;32m-> 3775\u001b[0m     response\u001b[39m.\u001b[39;49mraise_for_status()\n\u001b[0;32m   3777\u001b[0m \u001b[39mreturn\u001b[39;00m response\n",
      "File \u001b[1;32mc:\\Users\\Alex Lin\\.conda\\envs\\yolov7\\lib\\site-packages\\requests\\models.py:1021\u001b[0m, in \u001b[0;36mResponse.raise_for_status\u001b[1;34m(self)\u001b[0m\n\u001b[0;32m   1016\u001b[0m     http_error_msg \u001b[39m=\u001b[39m (\n\u001b[0;32m   1017\u001b[0m         \u001b[39mf\u001b[39m\u001b[39m\"\u001b[39m\u001b[39m{\u001b[39;00m\u001b[39mself\u001b[39m\u001b[39m.\u001b[39mstatus_code\u001b[39m}\u001b[39;00m\u001b[39m Server Error: \u001b[39m\u001b[39m{\u001b[39;00mreason\u001b[39m}\u001b[39;00m\u001b[39m for url: \u001b[39m\u001b[39m{\u001b[39;00m\u001b[39mself\u001b[39m\u001b[39m.\u001b[39murl\u001b[39m}\u001b[39;00m\u001b[39m\"\u001b[39m\n\u001b[0;32m   1018\u001b[0m     )\n\u001b[0;32m   1020\u001b[0m \u001b[39mif\u001b[39;00m http_error_msg:\n\u001b[1;32m-> 1021\u001b[0m     \u001b[39mraise\u001b[39;00m HTTPError(http_error_msg, response\u001b[39m=\u001b[39m\u001b[39mself\u001b[39m)\n",
      "\u001b[1;31mHTTPError\u001b[0m: 400 Client Error: Bad Request for url: https://app.cvat.ai/api/auth/login"
     ]
    }
   ],
   "source": [
    "# samples to annotate\n",
    "selected_view = dataset.select(session.selected)\n",
    "# unique id for this annotation run\n",
    "anno_key = \"test_run1\"\n",
    "\n",
    "# upload samples, run cvat\n",
    "anno_results = selected_view.annotate(\n",
    "    anno_key,\n",
    "    label_field=\"\",\n",
    "    label_type=\"detections\",\n",
    "    classes=['horse', 'person', 'dog', 'bike', 'car'],\n",
    "    launch_editor=True\n",
    ")\n",
    "\n",
    "# print status\n",
    "status = anno_results.get_status()\n",
    "anno_results.print_status()"
   ]
  },
  {
   "cell_type": "code",
   "execution_count": null,
   "metadata": {},
   "outputs": [],
   "source": [
    "selected_view.load_annotations(\"test_run\")\n",
    "\n",
    "# refresh fo app to show annotations\n",
    "session.view = selected_view"
   ]
  },
  {
   "cell_type": "code",
   "execution_count": 9,
   "metadata": {},
   "outputs": [],
   "source": [
    "# delete all datasets\n",
    "for ds in fo.list_datasets():\n",
    "    ds = fo.load_dataset(ds)\n",
    "    ds.delete()"
   ]
  }
 ],
 "metadata": {
  "kernelspec": {
   "display_name": "yolov7",
   "language": "python",
   "name": "python3"
  },
  "language_info": {
   "codemirror_mode": {
    "name": "ipython",
    "version": 3
   },
   "file_extension": ".py",
   "mimetype": "text/x-python",
   "name": "python",
   "nbconvert_exporter": "python",
   "pygments_lexer": "ipython3",
   "version": "3.9.17"
  },
  "orig_nbformat": 4
 },
 "nbformat": 4,
 "nbformat_minor": 2
}
