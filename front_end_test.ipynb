{
 "cells": [
  {
   "cell_type": "code",
   "execution_count": 1,
   "metadata": {},
   "outputs": [],
   "source": [
    "import fiftyone as fo\n",
    "from fiftyone import ViewField as F\n",
    "from client.yolov7_client.yolov7_triton_client import YoloV7_Triton_Inference_Client\n",
    "from client.detectron2_client.detectron2_triton_client import Detectron2_Triton_Client"
   ]
  },
  {
   "cell_type": "code",
   "execution_count": 2,
   "metadata": {},
   "outputs": [],
   "source": [
    "# start the triton inference server, either locally or on a server\n",
    "\n",
    "# docker run --gpus all --rm --ipc=host --shm-size=1g --ulimit memlock=-1 --ulimit stack=67108864 \\\n",
    "# -p8000:8000 -p8001:8001 -p8002:8002 --mount type=bind,source=\"path/to/triton/models\",destination=/models \\\n",
    "# nvcr.io/nvidia/tritonserver:22.06-py3 tritonserver --model-repository=/models --strict-model-config=false \\\n",
    "# --log-verbose 1"
   ]
  },
  {
   "cell_type": "code",
   "execution_count": 2,
   "metadata": {},
   "outputs": [
    {
     "data": {
      "text/plain": [
       "'c:\\\\Users\\\\Alex Lin\\\\Desktop\\\\baseline_system'"
      ]
     },
     "execution_count": 2,
     "metadata": {},
     "output_type": "execute_result"
    }
   ],
   "source": [
    "# make sure in baseline_system directory\n",
    "\n",
    "%pwd"
   ]
  },
  {
   "cell_type": "code",
   "execution_count": 3,
   "metadata": {},
   "outputs": [],
   "source": [
    "# initialize the client\n",
    "yolov7_client = YoloV7_Triton_Inference_Client()\n",
    "detectron2_client = Detectron2_Triton_Client(width=1344, height=1344)"
   ]
  },
  {
   "cell_type": "code",
   "execution_count": 2,
   "metadata": {},
   "outputs": [
    {
     "name": "stdout",
     "output_type": "stream",
     "text": [
      "\n",
      "Could not connect session, trying again in 10 seconds\n",
      "\n",
      "Session launched. Run `session.show()` to open the App in a cell output.\n"
     ]
    },
    {
     "data": {
      "application/javascript": "window.open('http://localhost:5151/');",
      "text/plain": [
       "<IPython.core.display.Javascript object>"
      ]
     },
     "metadata": {},
     "output_type": "display_data"
    }
   ],
   "source": [
    "# start fiftyone\n",
    "\n",
    "session = fo.launch_app(auto=False)\n",
    "session.open_tab()"
   ]
  },
  {
   "cell_type": "code",
   "execution_count": null,
   "metadata": {},
   "outputs": [],
   "source": [
    "# run the client \n",
    "\n",
    "# yolov7_client.infer_dummy()\n",
    "# yolov7_client.infer_image(input_='data/raw/images', fo_dataset=\"test_run1\")\n",
    "yolov7_client.infer_video(input_='data/raw/video', fo_dataset=\"test_run2\")\n",
    "\n",
    "# detectron2_client.infer_dummy()\n",
    "# detectron2_client.infer_image(input_='data/raw/images/test')\n",
    "# detectron2_client.infer_video(input_='data/raw/video', output_='data/inference/video')"
   ]
  },
  {
   "cell_type": "code",
   "execution_count": 3,
   "metadata": {},
   "outputs": [],
   "source": [
    "# load dataset \n",
    "dataset_name = \"test_run1\"\n",
    "dataset = fo.load_dataset(dataset_name)"
   ]
  },
  {
   "cell_type": "code",
   "execution_count": 4,
   "metadata": {},
   "outputs": [],
   "source": [
    "# create specific view for low confidence model predictions\n",
    "low_conf_view = (\n",
    "    dataset\n",
    "    .filter_labels(\"model_detections\", F(\"confidence\") < 0.6)\n",
    "    .sort_by(F(\"model_detections.confidence\"), reverse=True)\n",
    ")\n",
    "\n",
    "sample_id = low_conf_view.head(3)\n",
    "view = dataset.select(sample_id)"
   ]
  },
  {
   "cell_type": "code",
   "execution_count": 8,
   "metadata": {},
   "outputs": [
    {
     "name": "stdout",
     "output_type": "stream",
     "text": [
      "Computing metadata...\n",
      " 100% |█████████████████████| 2/2 [8.0s elapsed, 0s remaining, 0.2 samples/s]   \n",
      "Uploading samples to CVAT...\n",
      "Launching editor at 'http://localhost:8080/tasks/8/jobs/8'...\n"
     ]
    },
    {
     "data": {
      "text/plain": [
       "<fiftyone.utils.cvat.CVATAnnotationResults at 0x1bddb874c70>"
      ]
     },
     "execution_count": 8,
     "metadata": {},
     "output_type": "execute_result"
    }
   ],
   "source": [
    "# send samples to CVAT\n",
    "\n",
    "anno_key = \"test_run_images\"\n",
    "view.annotate(\n",
    "    anno_key,\n",
    "    label_field=\"ground_truth\",\n",
    "    label_type='detections',\n",
    "    classes=[\"person\",\"bicycle\",\"car\",\"motorcycle\",\"airplane\",\"bus\",\"train\",\"truck\",\"boat\",\"traffic light\",\"fire hydrant\",\n",
    "          \"stop sign\",\"parking meter\",\"bench\",\"bird\",\"cat\",\"dog\",\"horse\",\"sheep\",\"cow\",\"elephant\",\"bear\",\"zebra\",\n",
    "          \"giraffe\",\"backpack\",\"umbrella\",\"handbag\",\"tie\",\"suitcase\",\"frisbee\",\"skis\",\"snowboard\",\"sports ball\",\"kite\",\n",
    "          \"baseball bat\",\"baseball glove\",\"skateboard\",\"surfboard\",\"tennis racket\",\"bottle\",\"wine glass\",\"cup\",\"fork\",\n",
    "          \"knife\",\"spoon\",\"bowl\",\"banana\",\"apple\",\"sandwich\",\"orange\",\"broccoli\",\"carrot\",\"hot dog\",\"pizza\",\"donut\",\n",
    "          \"cake\",\"chair\",\"couch\",\"potted plant\",\"bed\",\"dining table\",\"toilet\",\"tv\",\"laptop\",\"mouse\",\"remote\",\"keyboard\",\n",
    "          \"cell phone\",\"microwave\",\"oven\",\"toaster\",\"sink\",\"refrigerator\",\"book\",\"clock\",\"vase\",\"scissors\",\"teddy bear\",\n",
    "          \"hair drier\", \"toothbrush\"],\n",
    "    launch_editor=True,\n",
    "    url=\"http://localhost:8080\",\n",
    "    username=\"django\",\n",
    "    password=\"bfc\",\n",
    ")"
   ]
  },
  {
   "cell_type": "code",
   "execution_count": 9,
   "metadata": {},
   "outputs": [
    {
     "name": "stdout",
     "output_type": "stream",
     "text": [
      "Downloading labels from CVAT...\n",
      "Download complete\n",
      "Loading labels for field 'ground_truth'...\n",
      " 100% |█████████████████████| 2/2 [10.7ms elapsed, 0s remaining, 186.7 samples/s] \n",
      "\n",
      "Could not connect session, trying again in 10 seconds\n",
      "\n"
     ]
    },
    {
     "ename": "RuntimeError",
     "evalue": "Client is not connected",
     "output_type": "error",
     "traceback": [
      "\u001b[1;31m---------------------------------------------------------------------------\u001b[0m",
      "\u001b[1;31mRuntimeError\u001b[0m                              Traceback (most recent call last)",
      "Cell \u001b[1;32mIn[9], line 6\u001b[0m\n\u001b[0;32m      3\u001b[0m dataset\u001b[39m.\u001b[39mload_annotations(anno_key)\n\u001b[0;32m      4\u001b[0m view \u001b[39m=\u001b[39m dataset\u001b[39m.\u001b[39mload_annotation_view(anno_key)\n\u001b[1;32m----> 6\u001b[0m session \u001b[39m=\u001b[39m fo\u001b[39m.\u001b[39;49mlaunch_app(view\u001b[39m=\u001b[39;49mview)\n",
      "File \u001b[1;32mc:\\Users\\Alex Lin\\.conda\\envs\\detectron2\\lib\\site-packages\\fiftyone\\core\\session\\session.py:197\u001b[0m, in \u001b[0;36mlaunch_app\u001b[1;34m(dataset, view, spaces, color_scheme, plots, port, address, remote, desktop, height, auto, config)\u001b[0m\n\u001b[0;32m    185\u001b[0m \u001b[39m#\u001b[39;00m\n\u001b[0;32m    186\u001b[0m \u001b[39m# Note, we always `close_app()` here rather than just calling\u001b[39;00m\n\u001b[0;32m    187\u001b[0m \u001b[39m# `session.open()` if a session already exists, because the app may have\u001b[39;00m\n\u001b[1;32m   (...)\u001b[0m\n\u001b[0;32m    193\u001b[0m \u001b[39m# @todo this can probably be improved\u001b[39;00m\n\u001b[0;32m    194\u001b[0m \u001b[39m#\u001b[39;00m\n\u001b[0;32m    195\u001b[0m close_app()\n\u001b[1;32m--> 197\u001b[0m _session \u001b[39m=\u001b[39m Session(\n\u001b[0;32m    198\u001b[0m     dataset\u001b[39m=\u001b[39;49mdataset,\n\u001b[0;32m    199\u001b[0m     view\u001b[39m=\u001b[39;49mview,\n\u001b[0;32m    200\u001b[0m     spaces\u001b[39m=\u001b[39;49mspaces,\n\u001b[0;32m    201\u001b[0m     color_scheme\u001b[39m=\u001b[39;49mcolor_scheme,\n\u001b[0;32m    202\u001b[0m     plots\u001b[39m=\u001b[39;49mplots,\n\u001b[0;32m    203\u001b[0m     port\u001b[39m=\u001b[39;49mport,\n\u001b[0;32m    204\u001b[0m     address\u001b[39m=\u001b[39;49maddress,\n\u001b[0;32m    205\u001b[0m     remote\u001b[39m=\u001b[39;49mremote,\n\u001b[0;32m    206\u001b[0m     desktop\u001b[39m=\u001b[39;49mdesktop,\n\u001b[0;32m    207\u001b[0m     height\u001b[39m=\u001b[39;49mheight,\n\u001b[0;32m    208\u001b[0m     auto\u001b[39m=\u001b[39;49mauto,\n\u001b[0;32m    209\u001b[0m     config\u001b[39m=\u001b[39;49mconfig,\n\u001b[0;32m    210\u001b[0m )\n\u001b[0;32m    212\u001b[0m \u001b[39mif\u001b[39;00m _session\u001b[39m.\u001b[39mremote:\n\u001b[0;32m    213\u001b[0m     logger\u001b[39m.\u001b[39minfo(_REMOTE_INSTRUCTIONS\u001b[39m.\u001b[39mstrip()\u001b[39m.\u001b[39mformat(_session\u001b[39m.\u001b[39mserver_port))\n",
      "File \u001b[1;32mc:\\Users\\Alex Lin\\.conda\\envs\\detectron2\\lib\\site-packages\\fiftyone\\core\\session\\session.py:430\u001b[0m, in \u001b[0;36mSession.__init__\u001b[1;34m(self, dataset, view, view_name, spaces, color_scheme, plots, port, address, remote, desktop, height, auto, config)\u001b[0m\n\u001b[0;32m    427\u001b[0m _register_session(\u001b[39mself\u001b[39m)\n\u001b[0;32m    429\u001b[0m \u001b[39mif\u001b[39;00m \u001b[39mself\u001b[39m\u001b[39m.\u001b[39mauto \u001b[39mand\u001b[39;00m focx\u001b[39m.\u001b[39mis_notebook_context():\n\u001b[1;32m--> 430\u001b[0m     \u001b[39mself\u001b[39;49m\u001b[39m.\u001b[39;49mshow(height\u001b[39m=\u001b[39;49mconfig\u001b[39m.\u001b[39;49mnotebook_height)\n\u001b[0;32m    432\u001b[0m \u001b[39mif\u001b[39;00m \u001b[39mself\u001b[39m\u001b[39m.\u001b[39mremote:\n\u001b[0;32m    433\u001b[0m     \u001b[39mif\u001b[39;00m focx\u001b[39m.\u001b[39mis_notebook_context():\n",
      "File \u001b[1;32mc:\\Users\\Alex Lin\\.conda\\envs\\detectron2\\lib\\site-packages\\fiftyone\\core\\session\\session.py:256\u001b[0m, in \u001b[0;36mupdate_state.<locals>.decorator.<locals>.wrapper\u001b[1;34m(session, *args, **kwargs)\u001b[0m\n\u001b[0;32m    254\u001b[0m \u001b[39mif\u001b[39;00m auto_show \u001b[39mand\u001b[39;00m session\u001b[39m.\u001b[39mauto \u001b[39mand\u001b[39;00m focx\u001b[39m.\u001b[39mis_notebook_context():\n\u001b[0;32m    255\u001b[0m     session\u001b[39m.\u001b[39mfreeze()\n\u001b[1;32m--> 256\u001b[0m result \u001b[39m=\u001b[39m func(session, \u001b[39m*\u001b[39;49margs, \u001b[39m*\u001b[39;49m\u001b[39m*\u001b[39;49mkwargs)\n\u001b[0;32m    257\u001b[0m session\u001b[39m.\u001b[39m_client\u001b[39m.\u001b[39msend_event(StateUpdate(state\u001b[39m=\u001b[39msession\u001b[39m.\u001b[39m_state))\n\u001b[0;32m    258\u001b[0m \u001b[39mif\u001b[39;00m auto_show \u001b[39mand\u001b[39;00m session\u001b[39m.\u001b[39mauto \u001b[39mand\u001b[39;00m focx\u001b[39m.\u001b[39mis_notebook_context():\n",
      "File \u001b[1;32mc:\\Users\\Alex Lin\\.conda\\envs\\detectron2\\lib\\site-packages\\fiftyone\\core\\session\\session.py:1024\u001b[0m, in \u001b[0;36mSession.show\u001b[1;34m(self, height)\u001b[0m\n\u001b[0;32m   1021\u001b[0m \u001b[39mif\u001b[39;00m \u001b[39mnot\u001b[39;00m focx\u001b[39m.\u001b[39mis_notebook_context() \u001b[39mor\u001b[39;00m \u001b[39mself\u001b[39m\u001b[39m.\u001b[39mdesktop:\n\u001b[0;32m   1022\u001b[0m     \u001b[39mreturn\u001b[39;00m\n\u001b[1;32m-> 1024\u001b[0m \u001b[39mself\u001b[39;49m\u001b[39m.\u001b[39;49mfreeze()\n\u001b[0;32m   1025\u001b[0m \u001b[39mif\u001b[39;00m \u001b[39mself\u001b[39m\u001b[39m.\u001b[39mdataset \u001b[39mis\u001b[39;00m \u001b[39mnot\u001b[39;00m \u001b[39mNone\u001b[39;00m:\n\u001b[0;32m   1026\u001b[0m     \u001b[39mself\u001b[39m\u001b[39m.\u001b[39mdataset\u001b[39m.\u001b[39m_reload()\n",
      "File \u001b[1;32mc:\\Users\\Alex Lin\\.conda\\envs\\detectron2\\lib\\site-packages\\fiftyone\\core\\session\\session.py:1125\u001b[0m, in \u001b[0;36mSession.freeze\u001b[1;34m(self)\u001b[0m\n\u001b[0;32m   1122\u001b[0m     logger\u001b[39m.\u001b[39mwarning(\u001b[39m\"\u001b[39m\u001b[39mOnly notebook sessions can be frozen\u001b[39m\u001b[39m\"\u001b[39m)\n\u001b[0;32m   1123\u001b[0m     \u001b[39mreturn\u001b[39;00m\n\u001b[1;32m-> 1125\u001b[0m \u001b[39mself\u001b[39;49m\u001b[39m.\u001b[39;49m_client\u001b[39m.\u001b[39;49msend_event(DeactivateNotebookCell())\n\u001b[0;32m   1126\u001b[0m \u001b[39mself\u001b[39m\u001b[39m.\u001b[39mplots\u001b[39m.\u001b[39mfreeze()\n",
      "File \u001b[1;32mc:\\Users\\Alex Lin\\.conda\\envs\\detectron2\\lib\\site-packages\\fiftyone\\core\\session\\client.py:145\u001b[0m, in \u001b[0;36mClient.send_event\u001b[1;34m(self, event)\u001b[0m\n\u001b[0;32m    142\u001b[0m     \u001b[39mreturn\u001b[39;00m\n\u001b[0;32m    144\u001b[0m \u001b[39mif\u001b[39;00m \u001b[39mnot\u001b[39;00m \u001b[39mself\u001b[39m\u001b[39m.\u001b[39m_connected:\n\u001b[1;32m--> 145\u001b[0m     \u001b[39mraise\u001b[39;00m \u001b[39mRuntimeError\u001b[39;00m(\u001b[39m\"\u001b[39m\u001b[39mClient is not connected\u001b[39m\u001b[39m\"\u001b[39m)\n\u001b[0;32m    147\u001b[0m \u001b[39mself\u001b[39m\u001b[39m.\u001b[39m_post_event(event)\n\u001b[0;32m    148\u001b[0m \u001b[39mself\u001b[39m\u001b[39m.\u001b[39m_dispatch_event(event)\n",
      "\u001b[1;31mRuntimeError\u001b[0m: Client is not connected"
     ]
    }
   ],
   "source": [
    "# merge annotations back to Fiftyone dataset\n",
    "\n",
    "dataset.load_annotations(anno_key)\n",
    "view = dataset.load_annotation_view(anno_key)"
   ]
  },
  {
   "cell_type": "code",
   "execution_count": 10,
   "metadata": {},
   "outputs": [
    {
     "name": "stdout",
     "output_type": "stream",
     "text": [
      "Deleting tasks...\n",
      " 100% |█████████████████████| 1/1 [424.8ms elapsed, 0s remaining, 2.4 samples/s] \n"
     ]
    }
   ],
   "source": [
    "# CVAT cleanup\n",
    "\n",
    "# Delete tasks from CVAT\n",
    "results = dataset.load_annotation_results(anno_key)\n",
    "results.cleanup()\n",
    "\n",
    "# Delete run record (not the labels) from FiftyOne\n",
    "dataset.delete_annotation_run(anno_key)"
   ]
  },
  {
   "cell_type": "code",
   "execution_count": null,
   "metadata": {},
   "outputs": [],
   "source": [
    "# delete selected samples\n",
    "view = dataset.select(session.selected)\n",
    "dataset.delete_samples(view)"
   ]
  }
 ],
 "metadata": {
  "kernelspec": {
   "display_name": "detectron2",
   "language": "python",
   "name": "python3"
  },
  "language_info": {
   "codemirror_mode": {
    "name": "ipython",
    "version": 3
   },
   "file_extension": ".py",
   "mimetype": "text/x-python",
   "name": "python",
   "nbconvert_exporter": "python",
   "pygments_lexer": "ipython3",
   "version": "3.8.17"
  },
  "orig_nbformat": 4
 },
 "nbformat": 4,
 "nbformat_minor": 2
}
