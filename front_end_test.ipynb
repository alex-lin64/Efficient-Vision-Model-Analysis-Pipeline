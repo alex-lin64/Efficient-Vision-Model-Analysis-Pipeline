{
 "cells": [
  {
   "cell_type": "markdown",
   "metadata": {},
   "source": [
    "### Step 1: Import Dependencies\n",
    "\n",
    "*Make sure to follow the installation first in the readme*"
   ]
  },
  {
   "cell_type": "code",
   "execution_count": 1,
   "metadata": {},
   "outputs": [],
   "source": [
    "import fiftyone as fo\n",
    "from fiftyone import ViewField as F\n",
    "from client.yolov7_client.yolov7_triton_client import YoloV7_Triton_Inference_Client\n",
    "from client.detectron2_client.detectron2_triton_client import Detectron2_Triton_Client\n",
    "from ipywidgets import interact, Dropdown"
   ]
  },
  {
   "cell_type": "markdown",
   "metadata": {},
   "source": [
    "### Step 2: Start Triton Inference Server and CVAT \n",
    "\n",
    "(*will likely be combined into single start up script*)\n",
    "\n",
    "2a. Triton Inference Server: run the following command, replace source with models' path\n",
    "\n",
    "    docker run --gpus all --rm --ipc=host --shm-size=1g --ulimit memlock=-1 --ulimit stack=67108864 \\\n",
    "    -p8000:8000 -p8001:8001 -p8002:8002 --mount type=bind,source=\"path/to/triton/models\",destination=/models \\\n",
    "    nvcr.io/nvidia/tritonserver:22.06-py3 tritonserver --model-repository=/models --strict-model-config=false \\\n",
    "    --log-verbose 1\n",
    "\n",
    "        The command is as follows:\n",
    "        * --gpus all: specifies to use all available GPU on device\n",
    "        * --ipc=host: docker will share resource with host machine\n",
    "        * --shm-size=1g --ulimit memlock=-1 --ulimit stack=67108864: set up container runtime configs\n",
    "        * -p8000:8000: expose port 8000 for HTTP \n",
    "        * -p8001:8001: expose port 8001 for GRPC \n",
    "        * -p8002:8002: expose port 8002 for metrics \n",
    "        * -mount type=bind,source=\"path/to/triton/models\",destination=/models: mount models to container\n",
    "        * nvcr.io/nvidia/tritonserver:22.06-py3: pull from triton server image\n",
    "        * tritonserver --model-repository=/models --strict-model-config=false \\\n",
    "            --log-verbose 1: starts triton inference server\n",
    "    \n",
    "\n",
    "2b. CVAT: install local server as per instructions found [here](https://opencv.github.io/cvat/docs/administration/basics/installation/)\n",
    "\n",
    "   Once installed, to start a local CVAT server at port 8080 run the following commands\n",
    "\n",
    "    cd /path/to/cvat/clone/ \\\n",
    "    docker compose up -d\n"
   ]
  },
  {
   "cell_type": "code",
   "execution_count": 2,
   "metadata": {},
   "outputs": [],
   "source": [
    "# docker run --gpus all --rm --ipc=host --shm-size=1g --ulimit memlock=-1 --ulimit stack=67108864 \\\n",
    "# -p8000:8000 -p8001:8001 -p8002:8002 --mount type=bind,source=\"path/to/triton/models\",destination=/models \\\n",
    "# nvcr.io/nvidia/tritonserver:22.06-py3 tritonserver --model-repository=/models --strict-model-config=false \\\n",
    "# --log-verbose 1"
   ]
  },
  {
   "cell_type": "markdown",
   "metadata": {},
   "source": [
    "### Step 3: cd to baseline directory"
   ]
  },
  {
   "cell_type": "code",
   "execution_count": 8,
   "metadata": {},
   "outputs": [
    {
     "data": {
      "text/plain": [
       "'c:\\\\Users\\\\Alex Lin\\\\Desktop\\\\baseline_system'"
      ]
     },
     "execution_count": 8,
     "metadata": {},
     "output_type": "execute_result"
    }
   ],
   "source": [
    "# make sure in baseline_system directory\n",
    "%pwd"
   ]
  },
  {
   "cell_type": "markdown",
   "metadata": {},
   "source": [
    "### Step 4: Start Fiftyone Instance Locally\n",
    "\n",
    "Run the following cell, and navigate to localhost:5151\n",
    "\n",
    "*If the error \"Could not connect session, trying again in 10 seconds\" occurs, \n",
    "it is likely the session is already started.  In that case nagivate to \n",
    "localhost:5151 and see if a session is already started*"
   ]
  },
  {
   "cell_type": "code",
   "execution_count": 2,
   "metadata": {},
   "outputs": [
    {
     "name": "stdout",
     "output_type": "stream",
     "text": [
      "\n",
      "Could not connect session, trying again in 10 seconds\n",
      "\n",
      "Session launched. Run `session.show()` to open the App in a cell output.\n"
     ]
    },
    {
     "data": {
      "application/javascript": "window.open('http://localhost:5151/');",
      "text/plain": [
       "<IPython.core.display.Javascript object>"
      ]
     },
     "metadata": {},
     "output_type": "display_data"
    }
   ],
   "source": [
    "# start fiftyone\n",
    "\n",
    "session = fo.launch_app(auto=False)\n",
    "session.open_tab()"
   ]
  },
  {
   "cell_type": "markdown",
   "metadata": {},
   "source": [
    "### Step 5: Initilize the Model Client (and other things)\n",
    "\n",
    "\n",
    "5a. initialize the variables associated with the model as well as the class labels \n",
    "\n",
    "*Note: currently all demo models are trained on coco_classes.  If a custom model implements \\\n",
    "separate class labels, please make sure to replace the classes with the correct class label \\\n",
    "for use in annotation later*\n",
    "\n",
    "    - url: Inference server URL, default localhost:8001\n",
    "    - model_info: Print model status, configuration and statistics\n",
    "    - verbose: Enable verbose client output\n",
    "    - client_timeout: Client timeout in seconds, default no timeout\n",
    "    - ssl: Enable SSL encrypted channel to the server\n",
    "    - root_certificates: File holding PEM-encoded root certificates, default none\n",
    "    - private_key: File holding PEM-encoded private key, default is none\n",
    "    - certificate_chain: File holding PEM-encoded certicate chain default is none\n",
    "    - client_timeout: Client timeout in seconds, default no timeout\n",
    "    - width: Inference model input width, default 640\n",
    "    - height: Inference model input height, default 640"
   ]
  },
  {
   "cell_type": "code",
   "execution_count": 3,
   "metadata": {},
   "outputs": [],
   "source": [
    "url_triton='localhost:8001'\n",
    "model_info=False\n",
    "verbose=False\n",
    "client_timeout=None\n",
    "ssl=False\n",
    "root_certificates=None\n",
    "private_key=None\n",
    "certificate_chain=None\n",
    "width=640\n",
    "height=640\n",
    "# change this to the class labels your model of choice was trained on.  \n",
    "# the default demo detectron2 and yolov7 labels are trained on COCO labels\n",
    "COCO_CLASSES=[\"person\",\"bicycle\",\"car\",\"motorcycle\",\"airplane\",\"bus\",\"train\",\"truck\",\"boat\",\"traffic light\",\"fire hydrant\", \n",
    "              \"stop sign\",\"parking meter\",\"bench\",\"bird\",\"cat\",\"dog\",\"horse\",\"sheep\",\"cow\",\"elephant\",\"bear\",\"zebra\",\n",
    "              \"giraffe\",\"backpack\",\"umbrella\",\"handbag\",\"tie\",\"suitcase\",\"frisbee\",\"skis\",\"snowboard\",\"sports ball\",\"kite\",\n",
    "              \"baseball bat\",\"baseball glove\",\"skateboard\",\"surfboard\",\"tennis racket\",\"bottle\",\"wine glass\",\"cup\",\"fork\",\n",
    "              \"knife\",\"spoon\",\"bowl\",\"banana\",\"apple\",\"sandwich\",\"orange\",\"broccoli\",\"carrot\",\"hot dog\",\"pizza\",\"donut\",\n",
    "              \"cake\",\"chair\",\"couch\",\"potted plant\",\"bed\",\"dining table\",\"toilet\",\"tv\",\"laptop\",\"mouse\",\"remote\",\"keyboard\",\n",
    "              \"cell phone\",\"microwave\",\"oven\",\"toaster\",\"sink\",\"refrigerator\",\"book\",\"clock\",\"vase\",\"scissors\",\"teddy bear\",\n",
    "              \"hair drier\", \"toothbrush\"]"
   ]
  },
  {
   "cell_type": "markdown",
   "metadata": {},
   "source": [
    "5b. select the desired client\n",
    "\n",
    "*If new clients are loaded onto the triton inference server, simply append them \\\n",
    "to the client list and add the conditionals in init_client() to create a client. \\\n",
    "Make sure to import the client*"
   ]
  },
  {
   "cell_type": "code",
   "execution_count": 12,
   "metadata": {},
   "outputs": [
    {
     "data": {
      "application/vnd.jupyter.widget-view+json": {
       "model_id": "92a2dade3a05451cadf8bbe3b36ce319",
       "version_major": 2,
       "version_minor": 0
      },
      "text/plain": [
       "interactive(children=(Dropdown(description='client_choice', options=('select', 'yolov7', 'detectron2'), value=…"
      ]
     },
     "metadata": {},
     "output_type": "display_data"
    }
   ],
   "source": [
    "# initialize the client\n",
    "client_list = [\"select\", \"yolov7\", \"detectron2\"]\n",
    "clientW = Dropdown(options=client_list)\n",
    "client = []\n",
    "\n",
    "@interact(client_choice=clientW)\n",
    "def init_client(client_choice):\n",
    "    \"\"\"\n",
    "    Initializes client with choice from dropdown\n",
    "\n",
    "    :params:\n",
    "        - client_choice: chosen from client_list\n",
    "    \"\"\"\n",
    "    if client_choice == \"select\":\n",
    "        return\n",
    "    elif client_choice == \"yolov7\":\n",
    "        client.append(YoloV7_Triton_Inference_Client(\n",
    "            url=url_triton,\n",
    "            model_info=model_info,\n",
    "            verbose=verbose,\n",
    "            client_timeout=client_timeout,\n",
    "            ssl=ssl,\n",
    "            root_certificates=root_certificates,\n",
    "            private_key=private_key,\n",
    "            certificate_chain=certificate_chain,\n",
    "            width=width,\n",
    "            height=height\n",
    "        ))\n",
    "    elif client_choice == \"detectron2\":\n",
    "        client.append(Detectron2_Triton_Client(\n",
    "            url=url_triton,\n",
    "            model_info=model_info,\n",
    "            verbose=verbose,\n",
    "            client_timeout=client_timeout,\n",
    "            ssl=ssl,\n",
    "            root_certificates=root_certificates,\n",
    "            private_key=private_key,\n",
    "            certificate_chain=certificate_chain,\n",
    "            width=1344,\n",
    "            height=1344\n",
    "        ))"
   ]
  },
  {
   "cell_type": "markdown",
   "metadata": {},
   "source": [
    "5c. Set Runtime Configs \n",
    "\n",
    "*Make sure these configs are for your desired inference mode to avoid errors*\n",
    "\n",
    "For images\n",
    "   - input_: Input directory to load from in image\n",
    "       NOTE: directory must only contain image files\n",
    "   - fo_dataset: Dataset name to export predictions to fiftyone, \n",
    "       default '', no export\n",
    "   - output_: Output directory, default no output saved\n",
    "   - tags: list of tags to organize inference results in fiftyone\n",
    "\n",
    "For videos\n",
    "   - input_: Input directory to load from in video\n",
    "       NOTE: directory must only contain video files\n",
    "   - fo_dataset: Dataset name to export predictions to fiftyone, \n",
    "       default '', no export\n",
    "   - output_: Output directory, default no output saved\n",
    "   - fps: Video output fps, default 24.0 FPS\n",
    "   - tags: list of tags to organize inference results in fiftyone\n",
    "\n",
    "Dummy requires no input \n",
    "\n",
    "\n",
    "*Operations to export to fiftyone and export locally can both be down.  Visualization \\\n",
    "(not listed here) is limited and should only be used for development*"
   ]
  },
  {
   "cell_type": "code",
   "execution_count": 10,
   "metadata": {},
   "outputs": [],
   "source": [
    "input_ = 'C:\\\\Users\\\\Alex Lin\\\\Desktop\\\\baseline_system\\\\data\\\\raw\\\\images'\n",
    "output_ = ''\n",
    "fo_dataset = 'test_run4'\n",
    "fps = 24.0\n",
    "tags = [\"validation\"]"
   ]
  },
  {
   "cell_type": "markdown",
   "metadata": {},
   "source": [
    "5d. Run Inference in Desired Mode\n",
    "\n",
    "**If exported to fiftyone, navigate to your fiftyone client (should be a webpage \\\n",
    "at localhost:5151), refresh, and select the dataset exported to to see inference \\\n",
    "results**"
   ]
  },
  {
   "cell_type": "code",
   "execution_count": 11,
   "metadata": {},
   "outputs": [
    {
     "data": {
      "application/vnd.jupyter.widget-view+json": {
       "model_id": "32bc0dfb48ae41639f8db6d9068bd0ae",
       "version_major": 2,
       "version_minor": 0
      },
      "text/plain": [
       "interactive(children=(Dropdown(description='mode', options=('select', 'image', 'video', 'dummy'), value='selec…"
      ]
     },
     "metadata": {},
     "output_type": "display_data"
    }
   ],
   "source": [
    "inference_choice = ['select', 'image', 'video', 'dummy']\n",
    "inferenceW = Dropdown(options=inference_choice)\n",
    "\n",
    "@interact(mode=inferenceW)\n",
    "def inference(mode):\n",
    "    \"\"\"\n",
    "    Runs inference through Triton Inference Server \n",
    "\n",
    "    :params:\n",
    "        - mode, media type to run through server, chosen from inference_choice\n",
    "    \"\"\"\n",
    "    if mode == 'select':\n",
    "        return\n",
    "    elif mode == 'image':\n",
    "        client[0].infer_image(input_=input_, output_=output_, fo_dataset=fo_dataset, tags=tags)\n",
    "    elif mode == 'video':\n",
    "        client[0].infer_video(input_=input_, output_=output_, fo_dataset=fo_dataset, fps=fps, tags=tags)\n",
    "    elif mode == 'dummy':\n",
    "        client[0].infer_dummy()"
   ]
  },
  {
   "cell_type": "markdown",
   "metadata": {},
   "source": [
    "### Step 6: Validation Via CVAT\n",
    "\n",
    "Once inference has completed, validation may be performed through CVAT.  The dataset \n",
    "visualized in fiftyone would then be uploaded to CVAT, ground truth can be annotated,\n",
    "and the result imported back to fiftyone for analysis.\n",
    "\n",
    "6a. Load the desired dataset (of all available on fiftyone)"
   ]
  },
  {
   "cell_type": "code",
   "execution_count": 26,
   "metadata": {},
   "outputs": [
    {
     "data": {
      "application/vnd.jupyter.widget-view+json": {
       "model_id": "a1ea7291c7fa45a49b2d20548f9d8b33",
       "version_major": 2,
       "version_minor": 0
      },
      "text/plain": [
       "interactive(children=(Dropdown(description='dataset_choice', options=('select', 'cvat-annotation-example', 'te…"
      ]
     },
     "metadata": {},
     "output_type": "display_data"
    }
   ],
   "source": [
    "datasets = [\"select\"] + fo.list_datasets()\n",
    "datasetsW = Dropdown(options=datasets)\n",
    "# create a global var\n",
    "dataset = []\n",
    "\n",
    "@interact(dataset_choice=datasetsW)\n",
    "def init_dataset(dataset_choice):\n",
    "    if dataset_choice == \"select\":\n",
    "        return\n",
    "    # load dataset \n",
    "    dataset.append(fo.load_dataset(dataset_choice))"
   ]
  },
  {
   "cell_type": "markdown",
   "metadata": {},
   "source": [
    "***\n",
    "**WARNING: The follow will delete the selected samples from a dataset in fiftyone, \\\n",
    "only run if you are for sure deleting them as they cannot be recovered**\n",
    "\n",
    "*if error 'name 'session' is not defined' is thrown, restart kernel and rerun \\\n",
    "everything again*"
   ]
  },
  {
   "cell_type": "code",
   "execution_count": 16,
   "metadata": {},
   "outputs": [],
   "source": [
    "# delete selected samples\n",
    "delete_view = dataset[0].select(session.selected)\n",
    "dataset[0].delete_samples(delete_view)"
   ]
  },
  {
   "cell_type": "markdown",
   "metadata": {},
   "source": [
    "***"
   ]
  },
  {
   "cell_type": "markdown",
   "metadata": {},
   "source": [
    "6b. Config for Validation"
   ]
  },
  {
   "cell_type": "code",
   "execution_count": 14,
   "metadata": {},
   "outputs": [],
   "source": [
    "anno_key = \"test_run_images33\"\n",
    "label_field=\"ground_truth\"\n",
    "label_type='detections'\n",
    "classes=COCO_CLASSES\n",
    "launch_editor=False\n",
    "url_cvat=\"http://localhost:8080\"\n",
    "username=\"django\"\n",
    "password=\"bfc\""
   ]
  },
  {
   "cell_type": "markdown",
   "metadata": {},
   "source": [
    "6c. Run CVAT Validation\n",
    "\n",
    "Specific Metrics to Pick Data to Validate, **come up with them**\n"
   ]
  },
  {
   "cell_type": "code",
   "execution_count": null,
   "metadata": {},
   "outputs": [],
   "source": [
    "# create specific view for low confidence model predictions\n",
    "low_conf_view = (\n",
    "    dataset[0] \\\n",
    "    .filter_labels(\"model_detections\", F(\"confidence\") < 0.6)\n",
    "    .sort_by(F(\"predictions.detections\").length(), reverse=True)\n",
    "    ) \\\n",
    "\n",
    "# fastdup, cleanlab\n",
    "\n",
    "sample_id = low_conf_view.first().id\n",
    "view = dataset[0].select(sample_id)\n",
    "\n",
    "# send samples to CVAT\n",
    "view.annotate(\n",
    "    anno_key=\"test_image_3\",\n",
    "    label_field=\"model_detections\",\n",
    "    label_type=\"detections\",\n",
    "    classes=classes,\n",
    "    launch_editor=True,\n",
    "    url=\"http://localhost:8080\",\n",
    "    username=\"baseline\",\n",
    "    password=\"arclight\"\n",
    ")"
   ]
  },
  {
   "cell_type": "code",
   "execution_count": 25,
   "metadata": {},
   "outputs": [
    {
     "name": "stdout",
     "output_type": "stream",
     "text": [
      "Downloading dataset to 'C:\\Users\\Alex Lin\\fiftyone\\quickstart'\n",
      "Downloading dataset...\n",
      " 100% |████|  187.5Mb/187.5Mb [616.6ms elapsed, 0s remaining, 304.2Mb/s]      \n",
      "Extracting dataset...\n",
      "Parsing dataset metadata\n",
      "Found 200 samples\n",
      "Dataset info written to 'C:\\Users\\Alex Lin\\fiftyone\\quickstart\\info.json'\n",
      "Loading 'quickstart'\n",
      " 100% |█████████████████| 200/200 [8.7s elapsed, 0s remaining, 15.9 samples/s]      \n",
      "Dataset 'cvat-annotation-example' created\n",
      "Evaluating detections...\n",
      " 100% |█████████████████| 200/200 [47.0s elapsed, 0s remaining, 2.8 samples/s]      \n",
      "Found existing field 'ground_truth' with multiple types ['detections', 'instances']. Only the 'detections' will be annotated\n",
      "Computing metadata...\n",
      " 100% |█████████████████████| 1/1 [17.0s elapsed, 0s remaining, 0.1 samples/s] \n",
      "Uploading samples to CVAT...\n",
      "Arguments the caused this error were:\n",
      "{'json': {'name': 'FiftyOne_cvat-annotation-example', 'image_quality': 75, 'labels': [{'name': 'airplane', 'attributes': [{'name': 'iscrowd', 'mutable': True, 'input_type': 'text'}, {'name': 'label_id', 'input_type': 'text', 'mutable': True}]}, {'name': 'apple', 'attributes': [{'name': 'iscrowd', 'mutable': True, 'input_type': 'text'}, {'name': 'label_id', 'input_type': 'text', 'mutable': True}]}, {'name': 'backpack', 'attributes': [{'name': 'iscrowd', 'mutable': True, 'input_type': 'text'}, {'name': 'label_id', 'input_type': 'text', 'mutable': True}]}, {'name': 'banana', 'attributes': [{'name': 'iscrowd', 'mutable': True, 'input_type': 'text'}, {'name': 'label_id', 'input_type': 'text', 'mutable': True}]}, {'name': 'baseball glove', 'attributes': [{'name': 'iscrowd', 'mutable': True, 'input_type': 'text'}, {'name': 'label_id', 'input_type': 'text', 'mutable': True}]}, {'name': 'bear', 'attributes': [{'name': 'iscrowd', 'mutable': True, 'input_type': 'text'}, {'name': 'label_id', 'input_type': 'text', 'mutable': True}]}, {'name': 'bed', 'attributes': [{'name': 'iscrowd', 'mutable': True, 'input_type': 'text'}, {'name': 'label_id', 'input_type': 'text', 'mutable': True}]}, {'name': 'bench', 'attributes': [{'name': 'iscrowd', 'mutable': True, 'input_type': 'text'}, {'name': 'label_id', 'input_type': 'text', 'mutable': True}]}, {'name': 'bird', 'attributes': [{'name': 'iscrowd', 'mutable': True, 'input_type': 'text'}, {'name': 'label_id', 'input_type': 'text', 'mutable': True}]}, {'name': 'boat', 'attributes': [{'name': 'iscrowd', 'mutable': True, 'input_type': 'text'}, {'name': 'label_id', 'input_type': 'text', 'mutable': True}]}, {'name': 'book', 'attributes': [{'name': 'iscrowd', 'mutable': True, 'input_type': 'text'}, {'name': 'label_id', 'input_type': 'text', 'mutable': True}]}, {'name': 'bottle', 'attributes': [{'name': 'iscrowd', 'mutable': True, 'input_type': 'text'}, {'name': 'label_id', 'input_type': 'text', 'mutable': True}]}, {'name': 'bowl', 'attributes': [{'name': 'iscrowd', 'mutable': True, 'input_type': 'text'}, {'name': 'label_id', 'input_type': 'text', 'mutable': True}]}, {'name': 'broccoli', 'attributes': [{'name': 'iscrowd', 'mutable': True, 'input_type': 'text'}, {'name': 'label_id', 'input_type': 'text', 'mutable': True}]}, {'name': 'bus', 'attributes': [{'name': 'iscrowd', 'mutable': True, 'input_type': 'text'}, {'name': 'label_id', 'input_type': 'text', 'mutable': True}]}, {'name': 'cake', 'attributes': [{'name': 'iscrowd', 'mutable': True, 'input_type': 'text'}, {'name': 'label_id', 'input_type': 'text', 'mutable': True}]}, {'name': 'car', 'attributes': [{'name': 'iscrowd', 'mutable': True, 'input_type': 'text'}, {'name': 'label_id', 'input_type': 'text', 'mutable': True}]}, {'name': 'carrot', 'attributes': [{'name': 'iscrowd', 'mutable': True, 'input_type': 'text'}, {'name': 'label_id', 'input_type': 'text', 'mutable': True}]}, {'name': 'cat', 'attributes': [{'name': 'iscrowd', 'mutable': True, 'input_type': 'text'}, {'name': 'label_id', 'input_type': 'text', 'mutable': True}]}, {'name': 'cell phone', 'attributes': [{'name': 'iscrowd', 'mutable': True, 'input_type': 'text'}, {'name': 'label_id', 'input_type': 'text', 'mutable': True}]}, {'name': 'chair', 'attributes': [{'name': 'iscrowd', 'mutable': True, 'input_type': 'text'}, {'name': 'label_id', 'input_type': 'text', 'mutable': True}]}, {'name': 'clock', 'attributes': [{'name': 'iscrowd', 'mutable': True, 'input_type': 'text'}, {'name': 'label_id', 'input_type': 'text', 'mutable': True}]}, {'name': 'couch', 'attributes': [{'name': 'iscrowd', 'mutable': True, 'input_type': 'text'}, {'name': 'label_id', 'input_type': 'text', 'mutable': True}]}, {'name': 'cow', 'attributes': [{'name': 'iscrowd', 'mutable': True, 'input_type': 'text'}, {'name': 'label_id', 'input_type': 'text', 'mutable': True}]}, {'name': 'cup', 'attributes': [{'name': 'iscrowd', 'mutable': True, 'input_type': 'text'}, {'name': 'label_id', 'input_type': 'text', 'mutable': True}]}, {'name': 'dining table', 'attributes': [{'name': 'iscrowd', 'mutable': True, 'input_type': 'text'}, {'name': 'label_id', 'input_type': 'text', 'mutable': True}]}, {'name': 'dog', 'attributes': [{'name': 'iscrowd', 'mutable': True, 'input_type': 'text'}, {'name': 'label_id', 'input_type': 'text', 'mutable': True}]}, {'name': 'donut', 'attributes': [{'name': 'iscrowd', 'mutable': True, 'input_type': 'text'}, {'name': 'label_id', 'input_type': 'text', 'mutable': True}]}, {'name': 'elephant', 'attributes': [{'name': 'iscrowd', 'mutable': True, 'input_type': 'text'}, {'name': 'label_id', 'input_type': 'text', 'mutable': True}]}, {'name': 'fire hydrant', 'attributes': [{'name': 'iscrowd', 'mutable': True, 'input_type': 'text'}, {'name': 'label_id', 'input_type': 'text', 'mutable': True}]}, {'name': 'fork', 'attributes': [{'name': 'iscrowd', 'mutable': True, 'input_type': 'text'}, {'name': 'label_id', 'input_type': 'text', 'mutable': True}]}, {'name': 'frisbee', 'attributes': [{'name': 'iscrowd', 'mutable': True, 'input_type': 'text'}, {'name': 'label_id', 'input_type': 'text', 'mutable': True}]}, {'name': 'giraffe', 'attributes': [{'name': 'iscrowd', 'mutable': True, 'input_type': 'text'}, {'name': 'label_id', 'input_type': 'text', 'mutable': True}]}, {'name': 'handbag', 'attributes': [{'name': 'iscrowd', 'mutable': True, 'input_type': 'text'}, {'name': 'label_id', 'input_type': 'text', 'mutable': True}]}, {'name': 'horse', 'attributes': [{'name': 'iscrowd', 'mutable': True, 'input_type': 'text'}, {'name': 'label_id', 'input_type': 'text', 'mutable': True}]}, {'name': 'hot dog', 'attributes': [{'name': 'iscrowd', 'mutable': True, 'input_type': 'text'}, {'name': 'label_id', 'input_type': 'text', 'mutable': True}]}, {'name': 'kite', 'attributes': [{'name': 'iscrowd', 'mutable': True, 'input_type': 'text'}, {'name': 'label_id', 'input_type': 'text', 'mutable': True}]}, {'name': 'knife', 'attributes': [{'name': 'iscrowd', 'mutable': True, 'input_type': 'text'}, {'name': 'label_id', 'input_type': 'text', 'mutable': True}]}, {'name': 'laptop', 'attributes': [{'name': 'iscrowd', 'mutable': True, 'input_type': 'text'}, {'name': 'label_id', 'input_type': 'text', 'mutable': True}]}, {'name': 'microwave', 'attributes': [{'name': 'iscrowd', 'mutable': True, 'input_type': 'text'}, {'name': 'label_id', 'input_type': 'text', 'mutable': True}]}, {'name': 'motorcycle', 'attributes': [{'name': 'iscrowd', 'mutable': True, 'input_type': 'text'}, {'name': 'label_id', 'input_type': 'text', 'mutable': True}]}, {'name': 'orange', 'attributes': [{'name': 'iscrowd', 'mutable': True, 'input_type': 'text'}, {'name': 'label_id', 'input_type': 'text', 'mutable': True}]}, {'name': 'oven', 'attributes': [{'name': 'iscrowd', 'mutable': True, 'input_type': 'text'}, {'name': 'label_id', 'input_type': 'text', 'mutable': True}]}, {'name': 'parking meter', 'attributes': [{'name': 'iscrowd', 'mutable': True, 'input_type': 'text'}, {'name': 'label_id', 'input_type': 'text', 'mutable': True}]}, {'name': 'person', 'attributes': [{'name': 'iscrowd', 'mutable': True, 'input_type': 'text'}, {'name': 'label_id', 'input_type': 'text', 'mutable': True}]}, {'name': 'pizza', 'attributes': [{'name': 'iscrowd', 'mutable': True, 'input_type': 'text'}, {'name': 'label_id', 'input_type': 'text', 'mutable': True}]}, {'name': 'refrigerator', 'attributes': [{'name': 'iscrowd', 'mutable': True, 'input_type': 'text'}, {'name': 'label_id', 'input_type': 'text', 'mutable': True}]}, {'name': 'sandwich', 'attributes': [{'name': 'iscrowd', 'mutable': True, 'input_type': 'text'}, {'name': 'label_id', 'input_type': 'text', 'mutable': True}]}, {'name': 'scissors', 'attributes': [{'name': 'iscrowd', 'mutable': True, 'input_type': 'text'}, {'name': 'label_id', 'input_type': 'text', 'mutable': True}]}, {'name': 'sheep', 'attributes': [{'name': 'iscrowd', 'mutable': True, 'input_type': 'text'}, {'name': 'label_id', 'input_type': 'text', 'mutable': True}]}, {'name': 'sink', 'attributes': [{'name': 'iscrowd', 'mutable': True, 'input_type': 'text'}, {'name': 'label_id', 'input_type': 'text', 'mutable': True}]}, {'name': 'skateboard', 'attributes': [{'name': 'iscrowd', 'mutable': True, 'input_type': 'text'}, {'name': 'label_id', 'input_type': 'text', 'mutable': True}]}, {'name': 'skis', 'attributes': [{'name': 'iscrowd', 'mutable': True, 'input_type': 'text'}, {'name': 'label_id', 'input_type': 'text', 'mutable': True}]}, {'name': 'snowboard', 'attributes': [{'name': 'iscrowd', 'mutable': True, 'input_type': 'text'}, {'name': 'label_id', 'input_type': 'text', 'mutable': True}]}, {'name': 'spoon', 'attributes': [{'name': 'iscrowd', 'mutable': True, 'input_type': 'text'}, {'name': 'label_id', 'input_type': 'text', 'mutable': True}]}, {'name': 'sports ball', 'attributes': [{'name': 'iscrowd', 'mutable': True, 'input_type': 'text'}, {'name': 'label_id', 'input_type': 'text', 'mutable': True}]}, {'name': 'stop sign', 'attributes': [{'name': 'iscrowd', 'mutable': True, 'input_type': 'text'}, {'name': 'label_id', 'input_type': 'text', 'mutable': True}]}, {'name': 'suitcase', 'attributes': [{'name': 'iscrowd', 'mutable': True, 'input_type': 'text'}, {'name': 'label_id', 'input_type': 'text', 'mutable': True}]}, {'name': 'surfboard', 'attributes': [{'name': 'iscrowd', 'mutable': True, 'input_type': 'text'}, {'name': 'label_id', 'input_type': 'text', 'mutable': True}]}, {'name': 'teddy bear', 'attributes': [{'name': 'iscrowd', 'mutable': True, 'input_type': 'text'}, {'name': 'label_id', 'input_type': 'text', 'mutable': True}]}, {'name': 'tennis racket', 'attributes': [{'name': 'iscrowd', 'mutable': True, 'input_type': 'text'}, {'name': 'label_id', 'input_type': 'text', 'mutable': True}]}, {'name': 'tie', 'attributes': [{'name': 'iscrowd', 'mutable': True, 'input_type': 'text'}, {'name': 'label_id', 'input_type': 'text', 'mutable': True}]}, {'name': 'toothbrush', 'attributes': [{'name': 'iscrowd', 'mutable': True, 'input_type': 'text'}, {'name': 'label_id', 'input_type': 'text', 'mutable': True}]}, {'name': 'traffic light', 'attributes': [{'name': 'iscrowd', 'mutable': True, 'input_type': 'text'}, {'name': 'label_id', 'input_type': 'text', 'mutable': True}]}, {'name': 'train', 'attributes': [{'name': 'iscrowd', 'mutable': True, 'input_type': 'text'}, {'name': 'label_id', 'input_type': 'text', 'mutable': True}]}, {'name': 'truck', 'attributes': [{'name': 'iscrowd', 'mutable': True, 'input_type': 'text'}, {'name': 'label_id', 'input_type': 'text', 'mutable': True}]}, {'name': 'tv', 'attributes': [{'name': 'iscrowd', 'mutable': True, 'input_type': 'text'}, {'name': 'label_id', 'input_type': 'text', 'mutable': True}]}, {'name': 'umbrella', 'attributes': [{'name': 'iscrowd', 'mutable': True, 'input_type': 'text'}, {'name': 'label_id', 'input_type': 'text', 'mutable': True}]}, {'name': 'vase', 'attributes': [{'name': 'iscrowd', 'mutable': True, 'input_type': 'text'}, {'name': 'label_id', 'input_type': 'text', 'mutable': True}]}, {'name': 'wine glass', 'attributes': [{'name': 'iscrowd', 'mutable': True, 'input_type': 'text'}, {'name': 'label_id', 'input_type': 'text', 'mutable': True}]}, {'name': 'zebra', 'attributes': [{'name': 'iscrowd', 'mutable': True, 'input_type': 'text'}, {'name': 'label_id', 'input_type': 'text', 'mutable': True}]}]}}\n"
     ]
    },
    {
     "ename": "Exception",
     "evalue": "400 error for request <PreparedRequest [POST]> to url http://localhost:8080/api/tasks with the reason Bad Request. Error content: b'{\"labels\":[{\"attributes\":[{\"values\":[\"This field is required.\"]},{\"values\":[\"This field is required.\"]}]},{\"attributes\":[{\"values\":[\"This field is required.\"]},{\"values\":[\"This field is required.\"]}]},{\"attributes\":[{\"values\":[\"This field is required.\"]},{\"values\":[\"This field is required.\"]}]},{\"attributes\":[{\"values\":[\"This field is required.\"]},{\"values\":[\"This field is required.\"]}]},{\"attributes\":[{\"values\":[\"This field is required.\"]},{\"values\":[\"This field is required.\"]}]},{\"attributes\":[{\"values\":[\"This field is required.\"]},{\"values\":[\"This field is required.\"]}]},{\"attributes\":[{\"values\":[\"This field is required.\"]},{\"values\":[\"This field is required.\"]}]},{\"attributes\":[{\"values\":[\"This field is required.\"]},{\"values\":[\"This field is required.\"]}]},{\"attributes\":[{\"values\":[\"This field is required.\"]},{\"values\":[\"This field is required.\"]}]},{\"attributes\":[{\"values\":[\"This field is required.\"]},{\"values\":[\"This field is required.\"]}]},{\"attributes\":[{\"values\":[\"This field is required.\"]},{\"values\":[\"This field is required.\"]}]},{\"attributes\":[{\"values\":[\"This field is required.\"]},{\"values\":[\"This field is required.\"]}]},{\"attributes\":[{\"values\":[\"This field is required.\"]},{\"values\":[\"This field is required.\"]}]},{\"attributes\":[{\"values\":[\"This field is required.\"]},{\"values\":[\"This field is required.\"]}]},{\"attributes\":[{\"values\":[\"This field is required.\"]},{\"values\":[\"This field is required.\"]}]},{\"attributes\":[{\"values\":[\"This field is required.\"]},{\"values\":[\"This field is required.\"]}]},{\"attributes\":[{\"values\":[\"This field is required.\"]},{\"values\":[\"This field is required.\"]}]},{\"attributes\":[{\"values\":[\"This field is required.\"]},{\"values\":[\"This field is required.\"]}]},{\"attributes\":[{\"values\":[\"This field is required.\"]},{\"values\":[\"This field is required.\"]}]},{\"attributes\":[{\"values\":[\"This field is required.\"]},{\"values\":[\"This field is required.\"]}]},{\"attributes\":[{\"values\":[\"This field is required.\"]},{\"values\":[\"This field is required.\"]}]},{\"attributes\":[{\"values\":[\"This field is required.\"]},{\"values\":[\"This field is required.\"]}]},{\"attributes\":[{\"values\":[\"This field is required.\"]},{\"values\":[\"This field is required.\"]}]},{\"attributes\":[{\"values\":[\"This field is required.\"]},{\"values\":[\"This field is required.\"]}]},{\"attributes\":[{\"values\":[\"This field is required.\"]},{\"values\":[\"This field is required.\"]}]},{\"attributes\":[{\"values\":[\"This field is required.\"]},{\"values\":[\"This field is required.\"]}]},{\"attributes\":[{\"values\":[\"This field is required.\"]},{\"values\":[\"This field is required.\"]}]},{\"attributes\":[{\"values\":[\"This field is required.\"]},{\"values\":[\"This field is required.\"]}]},{\"attributes\":[{\"values\":[\"This field is required.\"]},{\"values\":[\"This field is required.\"]}]},{\"attributes\":[{\"values\":[\"This field is required.\"]},{\"values\":[\"This field is required.\"]}]},{\"attributes\":[{\"values\":[\"This field is required.\"]},{\"values\":[\"This field is required.\"]}]},{\"attributes\":[{\"values\":[\"This field is required.\"]},{\"values\":[\"This field is required.\"]}]},{\"attributes\":[{\"values\":[\"This field is required.\"]},{\"values\":[\"This field is required.\"]}]},{\"attributes\":[{\"values\":[\"This field is required.\"]},{\"values\":[\"This field is required.\"]}]},{\"attributes\":[{\"values\":[\"This field is required.\"]},{\"values\":[\"This field is required.\"]}]},{\"attributes\":[{\"values\":[\"This field is required.\"]},{\"values\":[\"This field is required.\"]}]},{\"attributes\":[{\"values\":[\"This field is required.\"]},{\"values\":[\"This field is required.\"]}]},{\"attributes\":[{\"values\":[\"This field is required.\"]},{\"values\":[\"This field is required.\"]}]},{\"attributes\":[{\"values\":[\"This field is required.\"]},{\"values\":[\"This field is required.\"]}]},{\"attributes\":[{\"values\":[\"This field is required.\"]},{\"values\":[\"This field is required.\"]}]},{\"attributes\":[{\"values\":[\"This field is required.\"]},{\"values\":[\"This field is required.\"]}]},{\"attributes\":[{\"values\":[\"This field is required.\"]},{\"values\":[\"This field is required.\"]}]},{\"attributes\":[{\"values\":[\"This field is required.\"]},{\"values\":[\"This field is required.\"]}]},{\"attributes\":[{\"values\":[\"This field is required.\"]},{\"values\":[\"This field is required.\"]}]},{\"attributes\":[{\"values\":[\"This field is required.\"]},{\"values\":[\"This field is required.\"]}]},{\"attributes\":[{\"values\":[\"This field is required.\"]},{\"values\":[\"This field is required.\"]}]},{\"attributes\":[{\"values\":[\"This field is required.\"]},{\"values\":[\"This field is required.\"]}]},{\"attributes\":[{\"values\":[\"This field is required.\"]},{\"values\":[\"This field is required.\"]}]},{\"attributes\":[{\"values\":[\"This field is required.\"]},{\"values\":[\"This field is required.\"]}]},{\"attributes\":[{\"values\":[\"This field is required.\"]},{\"values\":[\"This field is required.\"]}]},{\"attributes\":[{\"values\":[\"This field is required.\"]},{\"values\":[\"This field is required.\"]}]},{\"attributes\":[{\"values\":[\"This field is required.\"]},{\"values\":[\"This field is required.\"]}]},{\"attributes\":[{\"values\":[\"This field is required.\"]},{\"values\":[\"This field is required.\"]}]},{\"attributes\":[{\"values\":[\"This field is required.\"]},{\"values\":[\"This field is required.\"]}]},{\"attributes\":[{\"values\":[\"This field is required.\"]},{\"values\":[\"This field is required.\"]}]},{\"attributes\":[{\"values\":[\"This field is required.\"]},{\"values\":[\"This field is required.\"]}]},{\"attributes\":[{\"values\":[\"This field is required.\"]},{\"values\":[\"This field is required.\"]}]},{\"attributes\":[{\"values\":[\"This field is required.\"]},{\"values\":[\"This field is required.\"]}]},{\"attributes\":[{\"values\":[\"This field is required.\"]},{\"values\":[\"This field is required.\"]}]},{\"attributes\":[{\"values\":[\"This field is required.\"]},{\"values\":[\"This field is required.\"]}]},{\"attributes\":[{\"values\":[\"This field is required.\"]},{\"values\":[\"This field is required.\"]}]},{\"attributes\":[{\"values\":[\"This field is required.\"]},{\"values\":[\"This field is required.\"]}]},{\"attributes\":[{\"values\":[\"This field is required.\"]},{\"values\":[\"This field is required.\"]}]},{\"attributes\":[{\"values\":[\"This field is required.\"]},{\"values\":[\"This field is required.\"]}]},{\"attributes\":[{\"values\":[\"This field is required.\"]},{\"values\":[\"This field is required.\"]}]},{\"attributes\":[{\"values\":[\"This field is required.\"]},{\"values\":[\"This field is required.\"]}]},{\"attributes\":[{\"values\":[\"This field is required.\"]},{\"values\":[\"This field is required.\"]}]},{\"attributes\":[{\"values\":[\"This field is required.\"]},{\"values\":[\"This field is required.\"]}]},{\"attributes\":[{\"values\":[\"This field is required.\"]},{\"values\":[\"This field is required.\"]}]},{\"attributes\":[{\"values\":[\"This field is required.\"]},{\"values\":[\"This field is required.\"]}]},{\"attributes\":[{\"values\":[\"This field is required.\"]},{\"values\":[\"This field is required.\"]}]}]}'",
     "output_type": "error",
     "traceback": [
      "\u001b[1;31m---------------------------------------------------------------------------\u001b[0m",
      "\u001b[1;31mHTTPError\u001b[0m                                 Traceback (most recent call last)",
      "File \u001b[1;32mc:\\Users\\Alex Lin\\.conda\\envs\\detectron2\\lib\\site-packages\\fiftyone\\utils\\cvat.py:6792\u001b[0m, in \u001b[0;36mCVATAnnotationAPI._validate\u001b[1;34m(self, response, kwargs)\u001b[0m\n\u001b[0;32m   6791\u001b[0m \u001b[39mtry\u001b[39;00m:\n\u001b[1;32m-> 6792\u001b[0m     response\u001b[39m.\u001b[39;49mraise_for_status()\n\u001b[0;32m   6793\u001b[0m \u001b[39mexcept\u001b[39;00m:\n",
      "File \u001b[1;32mc:\\Users\\Alex Lin\\.conda\\envs\\detectron2\\lib\\site-packages\\requests\\models.py:1021\u001b[0m, in \u001b[0;36mResponse.raise_for_status\u001b[1;34m(self)\u001b[0m\n\u001b[0;32m   1020\u001b[0m \u001b[39mif\u001b[39;00m http_error_msg:\n\u001b[1;32m-> 1021\u001b[0m     \u001b[39mraise\u001b[39;00m HTTPError(http_error_msg, response\u001b[39m=\u001b[39m\u001b[39mself\u001b[39m)\n",
      "\u001b[1;31mHTTPError\u001b[0m: 400 Client Error: Bad Request for url: http://localhost:8080/api/tasks",
      "\nDuring handling of the above exception, another exception occurred:\n",
      "\u001b[1;31mException\u001b[0m                                 Traceback (most recent call last)",
      "Cell \u001b[1;32mIn[25], line 32\u001b[0m\n\u001b[0;32m     27\u001b[0m \u001b[39m# Step 3: Send samples to CVAT\u001b[39;00m\n\u001b[0;32m     28\u001b[0m \n\u001b[0;32m     29\u001b[0m \u001b[39m# A unique identifier for this run\u001b[39;00m\n\u001b[0;32m     30\u001b[0m anno_key \u001b[39m=\u001b[39m \u001b[39m\"\u001b[39m\u001b[39mcvat_basic_recipe\u001b[39m\u001b[39m\"\u001b[39m\n\u001b[1;32m---> 32\u001b[0m view\u001b[39m.\u001b[39;49mannotate(\n\u001b[0;32m     33\u001b[0m     anno_key,\n\u001b[0;32m     34\u001b[0m     label_field\u001b[39m=\u001b[39;49m\u001b[39m\"\u001b[39;49m\u001b[39mground_truth\u001b[39;49m\u001b[39m\"\u001b[39;49m,\n\u001b[0;32m     35\u001b[0m     attributes\u001b[39m=\u001b[39;49m[\u001b[39m\"\u001b[39;49m\u001b[39miscrowd\u001b[39;49m\u001b[39m\"\u001b[39;49m],\n\u001b[0;32m     36\u001b[0m     launch_editor\u001b[39m=\u001b[39;49m\u001b[39mTrue\u001b[39;49;00m,\n\u001b[0;32m     37\u001b[0m     url\u001b[39m=\u001b[39;49m\u001b[39m\"\u001b[39;49m\u001b[39mhttp://localhost:8080\u001b[39;49m\u001b[39m\"\u001b[39;49m,\n\u001b[0;32m     38\u001b[0m     username\u001b[39m=\u001b[39;49m\u001b[39m\"\u001b[39;49m\u001b[39mbaseline\u001b[39;49m\u001b[39m\"\u001b[39;49m,\n\u001b[0;32m     39\u001b[0m     password\u001b[39m=\u001b[39;49m\u001b[39m\"\u001b[39;49m\u001b[39marclight\u001b[39;49m\u001b[39m\"\u001b[39;49m\n\u001b[0;32m     40\u001b[0m )\n\u001b[0;32m     41\u001b[0m \u001b[39mprint\u001b[39m(dataset\u001b[39m.\u001b[39mget_annotation_info(anno_key))\n",
      "File \u001b[1;32mc:\\Users\\Alex Lin\\.conda\\envs\\detectron2\\lib\\site-packages\\fiftyone\\core\\collections.py:8262\u001b[0m, in \u001b[0;36mSampleCollection.annotate\u001b[1;34m(self, anno_key, label_schema, label_field, label_type, classes, attributes, mask_targets, allow_additions, allow_deletions, allow_label_edits, allow_index_edits, allow_spatial_edits, media_field, backend, launch_editor, **kwargs)\u001b[0m\n\u001b[0;32m   8133\u001b[0m \u001b[39mdef\u001b[39;00m \u001b[39mannotate\u001b[39m(\n\u001b[0;32m   8134\u001b[0m     \u001b[39mself\u001b[39m,\n\u001b[0;32m   8135\u001b[0m     anno_key,\n\u001b[1;32m   (...)\u001b[0m\n\u001b[0;32m   8150\u001b[0m     \u001b[39m*\u001b[39m\u001b[39m*\u001b[39mkwargs,\n\u001b[0;32m   8151\u001b[0m ):\n\u001b[0;32m   8152\u001b[0m \u001b[39m    \u001b[39m\u001b[39m\"\"\"Exports the samples and optional label field(s) in this collection\u001b[39;00m\n\u001b[0;32m   8153\u001b[0m \u001b[39m    to the given annotation backend.\u001b[39;00m\n\u001b[0;32m   8154\u001b[0m \n\u001b[1;32m   (...)\u001b[0m\n\u001b[0;32m   8260\u001b[0m \u001b[39m        an :class:`fiftyone.utils.annotations.AnnnotationResults`\u001b[39;00m\n\u001b[0;32m   8261\u001b[0m \u001b[39m    \"\"\"\u001b[39;00m\n\u001b[1;32m-> 8262\u001b[0m     \u001b[39mreturn\u001b[39;00m foua\u001b[39m.\u001b[39;49mannotate(\n\u001b[0;32m   8263\u001b[0m         \u001b[39mself\u001b[39;49m,\n\u001b[0;32m   8264\u001b[0m         anno_key,\n\u001b[0;32m   8265\u001b[0m         label_schema\u001b[39m=\u001b[39;49mlabel_schema,\n\u001b[0;32m   8266\u001b[0m         label_field\u001b[39m=\u001b[39;49mlabel_field,\n\u001b[0;32m   8267\u001b[0m         label_type\u001b[39m=\u001b[39;49mlabel_type,\n\u001b[0;32m   8268\u001b[0m         classes\u001b[39m=\u001b[39;49mclasses,\n\u001b[0;32m   8269\u001b[0m         attributes\u001b[39m=\u001b[39;49mattributes,\n\u001b[0;32m   8270\u001b[0m         mask_targets\u001b[39m=\u001b[39;49mmask_targets,\n\u001b[0;32m   8271\u001b[0m         allow_additions\u001b[39m=\u001b[39;49mallow_additions,\n\u001b[0;32m   8272\u001b[0m         allow_deletions\u001b[39m=\u001b[39;49mallow_deletions,\n\u001b[0;32m   8273\u001b[0m         allow_label_edits\u001b[39m=\u001b[39;49mallow_label_edits,\n\u001b[0;32m   8274\u001b[0m         allow_index_edits\u001b[39m=\u001b[39;49mallow_index_edits,\n\u001b[0;32m   8275\u001b[0m         allow_spatial_edits\u001b[39m=\u001b[39;49mallow_spatial_edits,\n\u001b[0;32m   8276\u001b[0m         media_field\u001b[39m=\u001b[39;49mmedia_field,\n\u001b[0;32m   8277\u001b[0m         backend\u001b[39m=\u001b[39;49mbackend,\n\u001b[0;32m   8278\u001b[0m         launch_editor\u001b[39m=\u001b[39;49mlaunch_editor,\n\u001b[0;32m   8279\u001b[0m         \u001b[39m*\u001b[39;49m\u001b[39m*\u001b[39;49mkwargs,\n\u001b[0;32m   8280\u001b[0m     )\n",
      "File \u001b[1;32mc:\\Users\\Alex Lin\\.conda\\envs\\detectron2\\lib\\site-packages\\fiftyone\\utils\\annotations.py:247\u001b[0m, in \u001b[0;36mannotate\u001b[1;34m(samples, anno_key, label_schema, label_field, label_type, classes, attributes, mask_targets, allow_additions, allow_deletions, allow_label_edits, allow_index_edits, allow_spatial_edits, media_field, backend, launch_editor, **kwargs)\u001b[0m\n\u001b[0;32m    242\u001b[0m \u001b[39m# Don't allow overwriting an existing run with same `anno_key`, since we\u001b[39;00m\n\u001b[0;32m    243\u001b[0m \u001b[39m# need the existing run in order to perform workflows like automatically\u001b[39;00m\n\u001b[0;32m    244\u001b[0m \u001b[39m# cleaning up the backend's tasks\u001b[39;00m\n\u001b[0;32m    245\u001b[0m anno_backend\u001b[39m.\u001b[39mregister_run(samples, anno_key, overwrite\u001b[39m=\u001b[39m\u001b[39mFalse\u001b[39;00m)\n\u001b[1;32m--> 247\u001b[0m results \u001b[39m=\u001b[39m anno_backend\u001b[39m.\u001b[39;49mupload_annotations(\n\u001b[0;32m    248\u001b[0m     samples, anno_key, launch_editor\u001b[39m=\u001b[39;49mlaunch_editor\n\u001b[0;32m    249\u001b[0m )\n\u001b[0;32m    251\u001b[0m anno_backend\u001b[39m.\u001b[39msave_run_results(samples, anno_key, results)\n\u001b[0;32m    253\u001b[0m \u001b[39mreturn\u001b[39;00m results\n",
      "File \u001b[1;32mc:\\Users\\Alex Lin\\.conda\\envs\\detectron2\\lib\\site-packages\\fiftyone\\utils\\cvat.py:3286\u001b[0m, in \u001b[0;36mCVATBackend.upload_annotations\u001b[1;34m(self, samples, anno_key, launch_editor)\u001b[0m\n\u001b[0;32m   3284\u001b[0m \u001b[39mdef\u001b[39;00m \u001b[39mupload_annotations\u001b[39m(\u001b[39mself\u001b[39m, samples, anno_key, launch_editor\u001b[39m=\u001b[39m\u001b[39mFalse\u001b[39;00m):\n\u001b[0;32m   3285\u001b[0m     api \u001b[39m=\u001b[39m \u001b[39mself\u001b[39m\u001b[39m.\u001b[39mconnect_to_api()\n\u001b[1;32m-> 3286\u001b[0m     results \u001b[39m=\u001b[39m api\u001b[39m.\u001b[39;49mupload_samples(samples, anno_key, \u001b[39mself\u001b[39;49m)\n\u001b[0;32m   3288\u001b[0m     \u001b[39mif\u001b[39;00m launch_editor:\n\u001b[0;32m   3289\u001b[0m         results\u001b[39m.\u001b[39mlaunch_editor()\n",
      "File \u001b[1;32mc:\\Users\\Alex Lin\\.conda\\envs\\detectron2\\lib\\site-packages\\fiftyone\\utils\\cvat.py:4491\u001b[0m, in \u001b[0;36mCVATAnnotationAPI.upload_samples\u001b[1;34m(self, samples, anno_key, backend)\u001b[0m\n\u001b[0;32m   4484\u001b[0m \u001b[39mif\u001b[39;00m num_batches \u001b[39m>\u001b[39m \u001b[39m1\u001b[39m:\n\u001b[0;32m   4485\u001b[0m     task_name \u001b[39m+\u001b[39m\u001b[39m=\u001b[39m \u001b[39mf\u001b[39m\u001b[39m\"\u001b[39m\u001b[39m_\u001b[39m\u001b[39m{\u001b[39;00midx\u001b[39m \u001b[39m\u001b[39m+\u001b[39m\u001b[39m \u001b[39m\u001b[39m1\u001b[39m\u001b[39m}\u001b[39;00m\u001b[39m\"\u001b[39m\n\u001b[0;32m   4487\u001b[0m (\n\u001b[0;32m   4488\u001b[0m     task_id,\n\u001b[0;32m   4489\u001b[0m     class_id_map,\n\u001b[0;32m   4490\u001b[0m     attr_id_map,\n\u001b[1;32m-> 4491\u001b[0m ) \u001b[39m=\u001b[39m \u001b[39mself\u001b[39;49m\u001b[39m.\u001b[39;49m_create_task_upload_data(\n\u001b[0;32m   4492\u001b[0m     config,\n\u001b[0;32m   4493\u001b[0m     idx,\n\u001b[0;32m   4494\u001b[0m     task_name,\n\u001b[0;32m   4495\u001b[0m     cvat_schema,\n\u001b[0;32m   4496\u001b[0m     project_id,\n\u001b[0;32m   4497\u001b[0m     samples_batch,\n\u001b[0;32m   4498\u001b[0m     task_ids,\n\u001b[0;32m   4499\u001b[0m     job_ids,\n\u001b[0;32m   4500\u001b[0m     frame_id_map,\n\u001b[0;32m   4501\u001b[0m     _frame_start,\n\u001b[0;32m   4502\u001b[0m     _frame_stop,\n\u001b[0;32m   4503\u001b[0m     _frame_step,\n\u001b[0;32m   4504\u001b[0m )\n\u001b[0;32m   4506\u001b[0m \u001b[39mfor\u001b[39;00m label_field \u001b[39min\u001b[39;00m label_schema\u001b[39m.\u001b[39mkeys():\n\u001b[0;32m   4507\u001b[0m     labels_task_map[label_field]\u001b[39m.\u001b[39mappend(task_id)\n",
      "File \u001b[1;32mc:\\Users\\Alex Lin\\.conda\\envs\\detectron2\\lib\\site-packages\\fiftyone\\utils\\cvat.py:5304\u001b[0m, in \u001b[0;36mCVATAnnotationAPI._create_task_upload_data\u001b[1;34m(self, config, idx, task_name, cvat_schema, project_id, samples_batch, task_ids, job_ids, frame_id_map, frame_start, frame_stop, frame_step)\u001b[0m\n\u001b[0;32m   5301\u001b[0m         _issue_tracker \u001b[39m=\u001b[39m issue_tracker[idx \u001b[39m%\u001b[39m \u001b[39mlen\u001b[39m(issue_tracker)]\n\u001b[0;32m   5303\u001b[0m \u001b[39m# Create task\u001b[39;00m\n\u001b[1;32m-> 5304\u001b[0m task_id, class_id_map, attr_id_map \u001b[39m=\u001b[39m \u001b[39mself\u001b[39;49m\u001b[39m.\u001b[39;49mcreate_task(\n\u001b[0;32m   5305\u001b[0m     task_name,\n\u001b[0;32m   5306\u001b[0m     schema\u001b[39m=\u001b[39;49mcvat_schema,\n\u001b[0;32m   5307\u001b[0m     segment_size\u001b[39m=\u001b[39;49msegment_size,\n\u001b[0;32m   5308\u001b[0m     image_quality\u001b[39m=\u001b[39;49mimage_quality,\n\u001b[0;32m   5309\u001b[0m     task_assignee\u001b[39m=\u001b[39;49m_task_assignee,\n\u001b[0;32m   5310\u001b[0m     project_id\u001b[39m=\u001b[39;49mproject_id,\n\u001b[0;32m   5311\u001b[0m     issue_tracker\u001b[39m=\u001b[39;49m_issue_tracker,\n\u001b[0;32m   5312\u001b[0m )\n\u001b[0;32m   5313\u001b[0m task_ids\u001b[39m.\u001b[39mappend(task_id)\n\u001b[0;32m   5315\u001b[0m \u001b[39m# Upload media\u001b[39;00m\n",
      "File \u001b[1;32mc:\\Users\\Alex Lin\\.conda\\envs\\detectron2\\lib\\site-packages\\fiftyone\\utils\\cvat.py:4081\u001b[0m, in \u001b[0;36mCVATAnnotationAPI.create_task\u001b[1;34m(self, name, schema, segment_size, image_quality, task_assignee, project_id, issue_tracker)\u001b[0m\n\u001b[0;32m   4078\u001b[0m \u001b[39mif\u001b[39;00m issue_tracker \u001b[39mis\u001b[39;00m \u001b[39mnot\u001b[39;00m \u001b[39mNone\u001b[39;00m:\n\u001b[0;32m   4079\u001b[0m     task_json[\u001b[39m\"\u001b[39m\u001b[39mbug_tracker\u001b[39m\u001b[39m\"\u001b[39m] \u001b[39m=\u001b[39m issue_tracker\n\u001b[1;32m-> 4081\u001b[0m task_id, labels \u001b[39m=\u001b[39m \u001b[39mself\u001b[39;49m\u001b[39m.\u001b[39;49m_get_task_id_labels_json(task_json)\n\u001b[0;32m   4083\u001b[0m \u001b[39m# @todo: see _get_attr_class_maps\u001b[39;00m\n\u001b[0;32m   4084\u001b[0m class_id_map \u001b[39m=\u001b[39m {}\n",
      "File \u001b[1;32mc:\\Users\\Alex Lin\\.conda\\envs\\detectron2\\lib\\site-packages\\fiftyone\\utils\\cvat.py:4864\u001b[0m, in \u001b[0;36mCVATAnnotationAPI._get_task_id_labels_json\u001b[1;34m(self, task_json)\u001b[0m\n\u001b[0;32m   4863\u001b[0m \u001b[39mdef\u001b[39;00m \u001b[39m_get_task_id_labels_json\u001b[39m(\u001b[39mself\u001b[39m, task_json):\n\u001b[1;32m-> 4864\u001b[0m     resp \u001b[39m=\u001b[39m \u001b[39mself\u001b[39;49m\u001b[39m.\u001b[39;49mpost(\u001b[39mself\u001b[39;49m\u001b[39m.\u001b[39;49mtasks_url, json\u001b[39m=\u001b[39;49mtask_json)\u001b[39m.\u001b[39mjson()\n\u001b[0;32m   4865\u001b[0m     task_id \u001b[39m=\u001b[39m resp[\u001b[39m\"\u001b[39m\u001b[39mid\u001b[39m\u001b[39m\"\u001b[39m]\n\u001b[0;32m   4867\u001b[0m     labels \u001b[39m=\u001b[39m resp[\u001b[39m\"\u001b[39m\u001b[39mlabels\u001b[39m\u001b[39m\"\u001b[39m]\n",
      "File \u001b[1;32mc:\\Users\\Alex Lin\\.conda\\envs\\detectron2\\lib\\site-packages\\fiftyone\\utils\\cvat.py:3813\u001b[0m, in \u001b[0;36mCVATAnnotationAPI.post\u001b[1;34m(self, url, **kwargs)\u001b[0m\n\u001b[0;32m   3803\u001b[0m \u001b[39mdef\u001b[39;00m \u001b[39mpost\u001b[39m(\u001b[39mself\u001b[39m, url, \u001b[39m*\u001b[39m\u001b[39m*\u001b[39mkwargs):\n\u001b[0;32m   3804\u001b[0m \u001b[39m    \u001b[39m\u001b[39m\"\"\"Sends a POST request to the given CVAT API URL.\u001b[39;00m\n\u001b[0;32m   3805\u001b[0m \n\u001b[0;32m   3806\u001b[0m \u001b[39m    Args:\u001b[39;00m\n\u001b[1;32m   (...)\u001b[0m\n\u001b[0;32m   3811\u001b[0m \u001b[39m        the request response\u001b[39;00m\n\u001b[0;32m   3812\u001b[0m \u001b[39m    \"\"\"\u001b[39;00m\n\u001b[1;32m-> 3813\u001b[0m     \u001b[39mreturn\u001b[39;00m \u001b[39mself\u001b[39;49m\u001b[39m.\u001b[39;49m_make_request(\u001b[39mself\u001b[39;49m\u001b[39m.\u001b[39;49m_session\u001b[39m.\u001b[39;49mpost, url, \u001b[39m*\u001b[39;49m\u001b[39m*\u001b[39;49mkwargs)\n",
      "File \u001b[1;32mc:\\Users\\Alex Lin\\.conda\\envs\\detectron2\\lib\\site-packages\\fiftyone\\utils\\cvat.py:3773\u001b[0m, in \u001b[0;36mCVATAnnotationAPI._make_request\u001b[1;34m(self, request_method, url, print_error_info, **kwargs)\u001b[0m\n\u001b[0;32m   3771\u001b[0m response \u001b[39m=\u001b[39m request_method(url, verify\u001b[39m=\u001b[39m\u001b[39mFalse\u001b[39;00m, \u001b[39m*\u001b[39m\u001b[39m*\u001b[39mkwargs)\n\u001b[0;32m   3772\u001b[0m \u001b[39mif\u001b[39;00m print_error_info:\n\u001b[1;32m-> 3773\u001b[0m     \u001b[39mself\u001b[39;49m\u001b[39m.\u001b[39;49m_validate(response, kwargs)\n\u001b[0;32m   3774\u001b[0m \u001b[39melse\u001b[39;00m:\n\u001b[0;32m   3775\u001b[0m     response\u001b[39m.\u001b[39mraise_for_status()\n",
      "File \u001b[1;32mc:\\Users\\Alex Lin\\.conda\\envs\\detectron2\\lib\\site-packages\\fiftyone\\utils\\cvat.py:6797\u001b[0m, in \u001b[0;36mCVATAnnotationAPI._validate\u001b[1;34m(self, response, kwargs)\u001b[0m\n\u001b[0;32m   6795\u001b[0m logger\u001b[39m.\u001b[39minfo(\u001b[39m\"\u001b[39m\u001b[39mArguments the caused this error were:\u001b[39m\u001b[39m\"\u001b[39m)\n\u001b[0;32m   6796\u001b[0m logger\u001b[39m.\u001b[39minfo(kwargs)\n\u001b[1;32m-> 6797\u001b[0m \u001b[39mraise\u001b[39;00m \u001b[39mException\u001b[39;00m(\n\u001b[0;32m   6798\u001b[0m     \u001b[39m\"\u001b[39m\u001b[39m%d\u001b[39;00m\u001b[39m error for request \u001b[39m\u001b[39m%s\u001b[39;00m\u001b[39m to url \u001b[39m\u001b[39m%s\u001b[39;00m\u001b[39m with the reason \u001b[39m\u001b[39m%s\u001b[39;00m\u001b[39m. Error \u001b[39m\u001b[39m\"\u001b[39m\n\u001b[0;32m   6799\u001b[0m     \u001b[39m\"\u001b[39m\u001b[39mcontent: \u001b[39m\u001b[39m%s\u001b[39;00m\u001b[39m\"\u001b[39m\n\u001b[0;32m   6800\u001b[0m     \u001b[39m%\u001b[39m (\n\u001b[0;32m   6801\u001b[0m         d[\u001b[39m\"\u001b[39m\u001b[39mstatus_code\u001b[39m\u001b[39m\"\u001b[39m],\n\u001b[0;32m   6802\u001b[0m         d[\u001b[39m\"\u001b[39m\u001b[39mrequest\u001b[39m\u001b[39m\"\u001b[39m],\n\u001b[0;32m   6803\u001b[0m         d[\u001b[39m\"\u001b[39m\u001b[39murl\u001b[39m\u001b[39m\"\u001b[39m],\n\u001b[0;32m   6804\u001b[0m         d[\u001b[39m\"\u001b[39m\u001b[39mreason\u001b[39m\u001b[39m\"\u001b[39m],\n\u001b[0;32m   6805\u001b[0m         d[\u001b[39m\"\u001b[39m\u001b[39m_content\u001b[39m\u001b[39m\"\u001b[39m],\n\u001b[0;32m   6806\u001b[0m     )\n\u001b[0;32m   6807\u001b[0m )\n",
      "\u001b[1;31mException\u001b[0m: 400 error for request <PreparedRequest [POST]> to url http://localhost:8080/api/tasks with the reason Bad Request. Error content: b'{\"labels\":[{\"attributes\":[{\"values\":[\"This field is required.\"]},{\"values\":[\"This field is required.\"]}]},{\"attributes\":[{\"values\":[\"This field is required.\"]},{\"values\":[\"This field is required.\"]}]},{\"attributes\":[{\"values\":[\"This field is required.\"]},{\"values\":[\"This field is required.\"]}]},{\"attributes\":[{\"values\":[\"This field is required.\"]},{\"values\":[\"This field is required.\"]}]},{\"attributes\":[{\"values\":[\"This field is required.\"]},{\"values\":[\"This field is required.\"]}]},{\"attributes\":[{\"values\":[\"This field is required.\"]},{\"values\":[\"This field is required.\"]}]},{\"attributes\":[{\"values\":[\"This field is required.\"]},{\"values\":[\"This field is required.\"]}]},{\"attributes\":[{\"values\":[\"This field is required.\"]},{\"values\":[\"This field is required.\"]}]},{\"attributes\":[{\"values\":[\"This field is required.\"]},{\"values\":[\"This field is required.\"]}]},{\"attributes\":[{\"values\":[\"This field is required.\"]},{\"values\":[\"This field is required.\"]}]},{\"attributes\":[{\"values\":[\"This field is required.\"]},{\"values\":[\"This field is required.\"]}]},{\"attributes\":[{\"values\":[\"This field is required.\"]},{\"values\":[\"This field is required.\"]}]},{\"attributes\":[{\"values\":[\"This field is required.\"]},{\"values\":[\"This field is required.\"]}]},{\"attributes\":[{\"values\":[\"This field is required.\"]},{\"values\":[\"This field is required.\"]}]},{\"attributes\":[{\"values\":[\"This field is required.\"]},{\"values\":[\"This field is required.\"]}]},{\"attributes\":[{\"values\":[\"This field is required.\"]},{\"values\":[\"This field is required.\"]}]},{\"attributes\":[{\"values\":[\"This field is required.\"]},{\"values\":[\"This field is required.\"]}]},{\"attributes\":[{\"values\":[\"This field is required.\"]},{\"values\":[\"This field is required.\"]}]},{\"attributes\":[{\"values\":[\"This field is required.\"]},{\"values\":[\"This field is required.\"]}]},{\"attributes\":[{\"values\":[\"This field is required.\"]},{\"values\":[\"This field is required.\"]}]},{\"attributes\":[{\"values\":[\"This field is required.\"]},{\"values\":[\"This field is required.\"]}]},{\"attributes\":[{\"values\":[\"This field is required.\"]},{\"values\":[\"This field is required.\"]}]},{\"attributes\":[{\"values\":[\"This field is required.\"]},{\"values\":[\"This field is required.\"]}]},{\"attributes\":[{\"values\":[\"This field is required.\"]},{\"values\":[\"This field is required.\"]}]},{\"attributes\":[{\"values\":[\"This field is required.\"]},{\"values\":[\"This field is required.\"]}]},{\"attributes\":[{\"values\":[\"This field is required.\"]},{\"values\":[\"This field is required.\"]}]},{\"attributes\":[{\"values\":[\"This field is required.\"]},{\"values\":[\"This field is required.\"]}]},{\"attributes\":[{\"values\":[\"This field is required.\"]},{\"values\":[\"This field is required.\"]}]},{\"attributes\":[{\"values\":[\"This field is required.\"]},{\"values\":[\"This field is required.\"]}]},{\"attributes\":[{\"values\":[\"This field is required.\"]},{\"values\":[\"This field is required.\"]}]},{\"attributes\":[{\"values\":[\"This field is required.\"]},{\"values\":[\"This field is required.\"]}]},{\"attributes\":[{\"values\":[\"This field is required.\"]},{\"values\":[\"This field is required.\"]}]},{\"attributes\":[{\"values\":[\"This field is required.\"]},{\"values\":[\"This field is required.\"]}]},{\"attributes\":[{\"values\":[\"This field is required.\"]},{\"values\":[\"This field is required.\"]}]},{\"attributes\":[{\"values\":[\"This field is required.\"]},{\"values\":[\"This field is required.\"]}]},{\"attributes\":[{\"values\":[\"This field is required.\"]},{\"values\":[\"This field is required.\"]}]},{\"attributes\":[{\"values\":[\"This field is required.\"]},{\"values\":[\"This field is required.\"]}]},{\"attributes\":[{\"values\":[\"This field is required.\"]},{\"values\":[\"This field is required.\"]}]},{\"attributes\":[{\"values\":[\"This field is required.\"]},{\"values\":[\"This field is required.\"]}]},{\"attributes\":[{\"values\":[\"This field is required.\"]},{\"values\":[\"This field is required.\"]}]},{\"attributes\":[{\"values\":[\"This field is required.\"]},{\"values\":[\"This field is required.\"]}]},{\"attributes\":[{\"values\":[\"This field is required.\"]},{\"values\":[\"This field is required.\"]}]},{\"attributes\":[{\"values\":[\"This field is required.\"]},{\"values\":[\"This field is required.\"]}]},{\"attributes\":[{\"values\":[\"This field is required.\"]},{\"values\":[\"This field is required.\"]}]},{\"attributes\":[{\"values\":[\"This field is required.\"]},{\"values\":[\"This field is required.\"]}]},{\"attributes\":[{\"values\":[\"This field is required.\"]},{\"values\":[\"This field is required.\"]}]},{\"attributes\":[{\"values\":[\"This field is required.\"]},{\"values\":[\"This field is required.\"]}]},{\"attributes\":[{\"values\":[\"This field is required.\"]},{\"values\":[\"This field is required.\"]}]},{\"attributes\":[{\"values\":[\"This field is required.\"]},{\"values\":[\"This field is required.\"]}]},{\"attributes\":[{\"values\":[\"This field is required.\"]},{\"values\":[\"This field is required.\"]}]},{\"attributes\":[{\"values\":[\"This field is required.\"]},{\"values\":[\"This field is required.\"]}]},{\"attributes\":[{\"values\":[\"This field is required.\"]},{\"values\":[\"This field is required.\"]}]},{\"attributes\":[{\"values\":[\"This field is required.\"]},{\"values\":[\"This field is required.\"]}]},{\"attributes\":[{\"values\":[\"This field is required.\"]},{\"values\":[\"This field is required.\"]}]},{\"attributes\":[{\"values\":[\"This field is required.\"]},{\"values\":[\"This field is required.\"]}]},{\"attributes\":[{\"values\":[\"This field is required.\"]},{\"values\":[\"This field is required.\"]}]},{\"attributes\":[{\"values\":[\"This field is required.\"]},{\"values\":[\"This field is required.\"]}]},{\"attributes\":[{\"values\":[\"This field is required.\"]},{\"values\":[\"This field is required.\"]}]},{\"attributes\":[{\"values\":[\"This field is required.\"]},{\"values\":[\"This field is required.\"]}]},{\"attributes\":[{\"values\":[\"This field is required.\"]},{\"values\":[\"This field is required.\"]}]},{\"attributes\":[{\"values\":[\"This field is required.\"]},{\"values\":[\"This field is required.\"]}]},{\"attributes\":[{\"values\":[\"This field is required.\"]},{\"values\":[\"This field is required.\"]}]},{\"attributes\":[{\"values\":[\"This field is required.\"]},{\"values\":[\"This field is required.\"]}]},{\"attributes\":[{\"values\":[\"This field is required.\"]},{\"values\":[\"This field is required.\"]}]},{\"attributes\":[{\"values\":[\"This field is required.\"]},{\"values\":[\"This field is required.\"]}]},{\"attributes\":[{\"values\":[\"This field is required.\"]},{\"values\":[\"This field is required.\"]}]},{\"attributes\":[{\"values\":[\"This field is required.\"]},{\"values\":[\"This field is required.\"]}]},{\"attributes\":[{\"values\":[\"This field is required.\"]},{\"values\":[\"This field is required.\"]}]},{\"attributes\":[{\"values\":[\"This field is required.\"]},{\"values\":[\"This field is required.\"]}]},{\"attributes\":[{\"values\":[\"This field is required.\"]},{\"values\":[\"This field is required.\"]}]},{\"attributes\":[{\"values\":[\"This field is required.\"]},{\"values\":[\"This field is required.\"]}]}]}'"
     ]
    }
   ],
   "source": [
    "\n",
    "import fiftyone.zoo as foz\n",
    "\n",
    "dataset = foz.load_zoo_dataset(\n",
    "    \"quickstart\", dataset_name=\"cvat-annotation-example\"\n",
    ")\n",
    "dataset.persistent = True\n",
    "\n",
    "dataset.evaluate_detections(\n",
    "    \"predictions\", gt_field=\"ground_truth\", eval_key=\"eval\"\n",
    ")\n",
    "\n",
    "# Step 2: Locate a subset of your data requiring annotation\n",
    "\n",
    "# Create a view that contains only high confidence false positive model\n",
    "# predictions, with samples containing the most false positives first\n",
    "most_fp_view = (\n",
    "    dataset\n",
    "    .filter_labels(\"predictions\", (F(\"confidence\") > 0.8) & (F(\"eval\") == \"fp\"))\n",
    "    .sort_by(F(\"predictions.detections\").length(), reverse=True)\n",
    ")\n",
    "\n",
    "# Let's edit the ground truth annotations for the sample with the most\n",
    "# high confidence false positives\n",
    "sample_id = most_fp_view.first().id\n",
    "view = dataset.select(sample_id)\n",
    "\n",
    "# Step 3: Send samples to CVAT\n",
    "\n",
    "# A unique identifier for this run\n",
    "anno_key = \"cvat_basic_recipe\"\n",
    "\n",
    "view.annotate(\n",
    "    anno_key,\n",
    "    label_field=\"ground_truth\",\n",
    "    attributes=[\"iscrowd\"],\n",
    "    launch_editor=True,\n",
    "    url=\"http://localhost:8080\",\n",
    "    username=\"bfc\",\n",
    "    password=\"arclight\"\n",
    ")\n",
    "print(dataset.get_annotation_info(anno_key))"
   ]
  },
  {
   "cell_type": "markdown",
   "metadata": {},
   "source": [
    "6d. Merge Dataset Back to Fiftyone and Cleanup CVAT"
   ]
  },
  {
   "cell_type": "code",
   "execution_count": 46,
   "metadata": {},
   "outputs": [
    {
     "name": "stdout",
     "output_type": "stream",
     "text": [
      "Downloading labels from CVAT...\n",
      "Download complete\n",
      "Loading labels for field 'ground_truth'...\n",
      " 100% |█████████████████████| 0/0 [3.8ms elapsed, ? remaining, ? samples/s] \n",
      "Deleting tasks...\n",
      " 100% |█████████████████████| 1/1 [1.3s elapsed, 0s remaining, 0.8 samples/s] \n"
     ]
    }
   ],
   "source": [
    "# merge annotations back to Fiftyone dataset\n",
    "dataset[0].load_annotations(anno_key)\n",
    "dataset[0].load_annotation_view(anno_key)\n",
    "\n",
    "# Delete tasks from CVAT\n",
    "results = dataset[0].load_annotation_results(anno_key)\n",
    "results.cleanup()\n",
    "\n",
    "# Delete run record (not the labels) from FiftyOne\n",
    "dataset[0].delete_annotation_run(anno_key)"
   ]
  }
 ],
 "metadata": {
  "kernelspec": {
   "display_name": "detectron2",
   "language": "python",
   "name": "python3"
  },
  "language_info": {
   "codemirror_mode": {
    "name": "ipython",
    "version": 3
   },
   "file_extension": ".py",
   "mimetype": "text/x-python",
   "name": "python",
   "nbconvert_exporter": "python",
   "pygments_lexer": "ipython3",
   "version": "3.8.17"
  },
  "orig_nbformat": 4
 },
 "nbformat": 4,
 "nbformat_minor": 2
}
