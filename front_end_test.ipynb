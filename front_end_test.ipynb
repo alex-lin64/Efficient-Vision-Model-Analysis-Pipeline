{
 "cells": [
  {
   "cell_type": "markdown",
   "metadata": {},
   "source": [
    "### Step 1: Import Dependencies\n",
    "\n",
    "*Make sure to follow the installation first in the readme*"
   ]
  },
  {
   "cell_type": "code",
   "execution_count": 1,
   "metadata": {},
   "outputs": [],
   "source": [
    "import fiftyone as fo\n",
    "from fiftyone import ViewField as F\n",
    "from client.yolov7_client.yolov7_triton_client import YoloV7_Triton_Inference_Client\n",
    "from client.detectron2_client.detectron2_triton_client import Detectron2_Triton_Client\n",
    "from ipywidgets import interact, Dropdown"
   ]
  },
  {
   "cell_type": "markdown",
   "metadata": {},
   "source": [
    "### Step 2: Start Triton Inference Server and CVAT \n",
    "\n",
    "(*will likely be combined into single start up script*)\n",
    "\n",
    "2a. Triton Inference Server: run the following command, replace source with models' path\n",
    "\n",
    "    docker run --gpus all --rm --ipc=host --shm-size=1g --ulimit memlock=-1 --ulimit stack=67108864 \\\n",
    "    -p8000:8000 -p8001:8001 -p8002:8002 --mount type=bind,source=\"path/to/triton/models\",destination=/models \\\n",
    "    nvcr.io/nvidia/tritonserver:22.06-py3 tritonserver --model-repository=/models --strict-model-config=false \\\n",
    "    --log-verbose 1\n",
    "\n",
    "        The command is as follows:\n",
    "        * --gpus all: specifies to use all available GPU on device\n",
    "        * --ipc=host: docker will share resource with host machine\n",
    "        * --shm-size=1g --ulimit memlock=-1 --ulimit stack=67108864: set up container runtime configs\n",
    "        * -p8000:8000: expose port 8000 for HTTP \n",
    "        * -p8001:8001: expose port 8001 for GRPC \n",
    "        * -p8002:8002: expose port 8002 for metrics \n",
    "        * -mount type=bind,source=\"path/to/triton/models\",destination=/models: mount models to container\n",
    "        * nvcr.io/nvidia/tritonserver:22.06-py3: pull from triton server image\n",
    "        * tritonserver --model-repository=/models --strict-model-config=false \\\n",
    "            --log-verbose 1: starts triton inference server\n",
    "    \n",
    "\n",
    "2b. CVAT: install local server as per instructions found [here](https://opencv.github.io/cvat/docs/administration/basics/installation/)\n",
    "\n",
    "   Once installed, to start a local CVAT server at port 8080 run the following commands\n",
    "\n",
    "    cd /path/to/cvat/clone/ \\\n",
    "    CVAT_VERSION=v2.3.0 docker compose up -d  \n",
    "\n",
    "*note: cvat only works with fiftyone's api up to cvat v2.3.0*\n"
   ]
  },
  {
   "cell_type": "markdown",
   "metadata": {},
   "source": [
    "### Step 3: cd to baseline directory"
   ]
  },
  {
   "cell_type": "code",
   "execution_count": 8,
   "metadata": {},
   "outputs": [
    {
     "data": {
      "text/plain": [
       "'c:\\\\Users\\\\Alex Lin\\\\Desktop\\\\baseline_system'"
      ]
     },
     "execution_count": 8,
     "metadata": {},
     "output_type": "execute_result"
    }
   ],
   "source": [
    "# make sure in baseline_system directory\n",
    "%pwd"
   ]
  },
  {
   "cell_type": "markdown",
   "metadata": {},
   "source": [
    "### Step 4: Start Fiftyone Instance Locally\n",
    "\n",
    "Run the following cell, and navigate to localhost:5151\n",
    "\n",
    "*If the error \"Could not connect session, trying again in 10 seconds\" occurs, \n",
    "it is likely the session is already started.  In that case nagivate to \n",
    "localhost:5151 and see if a session is already started*"
   ]
  },
  {
   "cell_type": "code",
   "execution_count": 2,
   "metadata": {},
   "outputs": [
    {
     "name": "stdout",
     "output_type": "stream",
     "text": [
      "\n",
      "Could not connect session, trying again in 10 seconds\n",
      "\n",
      "Session launched. Run `session.show()` to open the App in a cell output.\n"
     ]
    },
    {
     "data": {
      "application/javascript": "window.open('http://localhost:5151/');",
      "text/plain": [
       "<IPython.core.display.Javascript object>"
      ]
     },
     "metadata": {},
     "output_type": "display_data"
    }
   ],
   "source": [
    "# start fiftyone\n",
    "\n",
    "session = fo.launch_app(auto=False)\n",
    "session.open_tab()"
   ]
  },
  {
   "cell_type": "markdown",
   "metadata": {},
   "source": [
    "### Step 5: Initilize the Model Client (and other things)\n",
    "\n",
    "\n",
    "5a. initialize the variables associated with the model as well as the class labels \n",
    "\n",
    "*Note: currently all demo models are trained on coco_classes.  If a custom model implements \\\n",
    "separate class labels, please make sure to replace the classes with the correct class label \\\n",
    "for use in annotation later*\n",
    "\n",
    "    - url: Inference server URL, default localhost:8001\n",
    "    - model_info: Print model status, configuration and statistics\n",
    "    - verbose: Enable verbose client output\n",
    "    - client_timeout: Client timeout in seconds, default no timeout\n",
    "    - ssl: Enable SSL encrypted channel to the server\n",
    "    - root_certificates: File holding PEM-encoded root certificates, default none\n",
    "    - private_key: File holding PEM-encoded private key, default is none\n",
    "    - certificate_chain: File holding PEM-encoded certicate chain default is none\n",
    "    - client_timeout: Client timeout in seconds, default no timeout\n",
    "    - width: Inference model input width, default 640\n",
    "    - height: Inference model input height, default 640"
   ]
  },
  {
   "cell_type": "code",
   "execution_count": 3,
   "metadata": {},
   "outputs": [],
   "source": [
    "url_triton='localhost:8001'\n",
    "model_info=False\n",
    "verbose=False\n",
    "client_timeout=None\n",
    "ssl=False\n",
    "root_certificates=None\n",
    "private_key=None\n",
    "certificate_chain=None\n",
    "width=640\n",
    "height=640"
   ]
  },
  {
   "cell_type": "markdown",
   "metadata": {},
   "source": [
    "5b. select the desired client\n",
    "\n",
    "*If new clients are loaded onto the triton inference server, simply append them \\\n",
    "to the client list and add the conditionals in init_client() to create a client. \\\n",
    "Make sure to import the client*"
   ]
  },
  {
   "cell_type": "code",
   "execution_count": 12,
   "metadata": {},
   "outputs": [
    {
     "data": {
      "application/vnd.jupyter.widget-view+json": {
       "model_id": "92a2dade3a05451cadf8bbe3b36ce319",
       "version_major": 2,
       "version_minor": 0
      },
      "text/plain": [
       "interactive(children=(Dropdown(description='client_choice', options=('select', 'yolov7', 'detectron2'), value=…"
      ]
     },
     "metadata": {},
     "output_type": "display_data"
    }
   ],
   "source": [
    "# initialize the client\n",
    "client_list = [\"select\", \"yolov7\", \"detectron2\"]\n",
    "clientW = Dropdown(options=client_list)\n",
    "client = []\n",
    "\n",
    "@interact(client_choice=clientW)\n",
    "def init_client(client_choice):\n",
    "    \"\"\"\n",
    "    Initializes client with choice from dropdown\n",
    "\n",
    "    :params:\n",
    "        - client_choice: chosen from client_list\n",
    "    \"\"\"\n",
    "    if client_choice == \"select\":\n",
    "        return\n",
    "    elif client_choice == \"yolov7\":\n",
    "        client.append(YoloV7_Triton_Inference_Client(\n",
    "            url=url_triton,\n",
    "            model_info=model_info,\n",
    "            verbose=verbose,\n",
    "            client_timeout=client_timeout,\n",
    "            ssl=ssl,\n",
    "            root_certificates=root_certificates,\n",
    "            private_key=private_key,\n",
    "            certificate_chain=certificate_chain,\n",
    "            width=width,\n",
    "            height=height\n",
    "        ))\n",
    "    elif client_choice == \"detectron2\":\n",
    "        client.append(Detectron2_Triton_Client(\n",
    "            url=url_triton,\n",
    "            model_info=model_info,\n",
    "            verbose=verbose,\n",
    "            client_timeout=client_timeout,\n",
    "            ssl=ssl,\n",
    "            root_certificates=root_certificates,\n",
    "            private_key=private_key,\n",
    "            certificate_chain=certificate_chain,\n",
    "            width=1344,\n",
    "            height=1344\n",
    "        ))"
   ]
  },
  {
   "cell_type": "markdown",
   "metadata": {},
   "source": [
    "5c. Set Runtime Configs \n",
    "\n",
    "*Make sure these configs are for your desired inference mode to avoid errors*\n",
    "\n",
    "For images\n",
    "   - input_: Input directory to load from in image\n",
    "       NOTE: directory must only contain image files\n",
    "   - fo_dataset: Dataset name to export predictions to fiftyone, \n",
    "       default '', no export\n",
    "   - output_: Output directory, default no output saved\n",
    "   - tags: list of tags to organize inference results in fiftyone\n",
    "\n",
    "For videos\n",
    "   - input_: Input directory to load from in video\n",
    "       NOTE: directory must only contain video files\n",
    "   - fo_dataset: Dataset name to export predictions to fiftyone, \n",
    "       default '', no export\n",
    "   - output_: Output directory, default no output saved\n",
    "   - fps: Video output fps, default 24.0 FPS\n",
    "   - tags: list of tags to organize inference results in fiftyone\n",
    "\n",
    "Dummy requires no input \n",
    "\n",
    "\n",
    "*Operations to export to fiftyone and export locally can both be down.  Visualization \\\n",
    "(not listed here) is limited and should only be used for development*"
   ]
  },
  {
   "cell_type": "code",
   "execution_count": 10,
   "metadata": {},
   "outputs": [],
   "source": [
    "input_ = 'C:\\\\Users\\\\Alex Lin\\\\Desktop\\\\baseline_system\\\\data\\\\raw\\\\images'\n",
    "output_ = ''\n",
    "fo_dataset = 'test_run4'\n",
    "fps = 24.0\n",
    "tags = [\"validation\"]"
   ]
  },
  {
   "cell_type": "markdown",
   "metadata": {},
   "source": [
    "5d. Run Inference in Desired Mode\n",
    "\n",
    "**If exported to fiftyone, navigate to your fiftyone client (should be a webpage \\\n",
    "at localhost:5151), refresh, and select the dataset exported to to see inference \\\n",
    "results**"
   ]
  },
  {
   "cell_type": "code",
   "execution_count": 11,
   "metadata": {},
   "outputs": [
    {
     "data": {
      "application/vnd.jupyter.widget-view+json": {
       "model_id": "32bc0dfb48ae41639f8db6d9068bd0ae",
       "version_major": 2,
       "version_minor": 0
      },
      "text/plain": [
       "interactive(children=(Dropdown(description='mode', options=('select', 'image', 'video', 'dummy'), value='selec…"
      ]
     },
     "metadata": {},
     "output_type": "display_data"
    }
   ],
   "source": [
    "inference_choice = ['select', 'image', 'video', 'dummy']\n",
    "inferenceW = Dropdown(options=inference_choice)\n",
    "\n",
    "@interact(mode=inferenceW)\n",
    "def inference(mode):\n",
    "    \"\"\"\n",
    "    Runs inference through Triton Inference Server \n",
    "\n",
    "    :params:\n",
    "        - mode, media type to run through server, chosen from inference_choice\n",
    "    \"\"\"\n",
    "    if mode == 'select':\n",
    "        return\n",
    "    elif mode == 'image':\n",
    "        client[0].infer_image(input_=input_, output_=output_, fo_dataset=fo_dataset, tags=tags)\n",
    "    elif mode == 'video':\n",
    "        client[0].infer_video(input_=input_, output_=output_, fo_dataset=fo_dataset, fps=fps, tags=tags)\n",
    "    elif mode == 'dummy':\n",
    "        client[0].infer_dummy()"
   ]
  },
  {
   "cell_type": "markdown",
   "metadata": {},
   "source": [
    "### Step 6: Validation Via CVAT\n",
    "\n",
    "Once inference has completed, validation may be performed through CVAT.  The dataset \n",
    "visualized in fiftyone would then be uploaded to CVAT, ground truth can be annotated,\n",
    "and the result imported back to fiftyone for analysis.\n",
    "\n",
    "6a. Load the desired dataset (of all available on fiftyone)"
   ]
  },
  {
   "cell_type": "code",
   "execution_count": 48,
   "metadata": {},
   "outputs": [
    {
     "data": {
      "application/vnd.jupyter.widget-view+json": {
       "model_id": "41737de0cdce4e84aced38473beb617f",
       "version_major": 2,
       "version_minor": 0
      },
      "text/plain": [
       "interactive(children=(Dropdown(description='dataset_choice', options=('select', 'cvat-annotation-example', 'te…"
      ]
     },
     "metadata": {},
     "output_type": "display_data"
    }
   ],
   "source": [
    "datasets = [\"select\"] + fo.list_datasets()\n",
    "datasetsW = Dropdown(options=datasets)\n",
    "# create a global var\n",
    "dataset = []\n",
    "\n",
    "@interact(dataset_choice=datasetsW)\n",
    "def init_dataset(dataset_choice):\n",
    "    if dataset_choice == \"select\":\n",
    "        return\n",
    "    # load dataset \n",
    "    dataset.append(fo.load_dataset(dataset_choice))"
   ]
  },
  {
   "cell_type": "markdown",
   "metadata": {},
   "source": [
    "***\n",
    "**WARNING: The follow will delete the selected samples from a dataset in fiftyone, \\\n",
    "only run if the selected samples in the dataset is to be deleted as they cannot \\\n",
    "be recovered**\n",
    "\n",
    "*if error 'name 'session' is not defined' is thrown, restart kernel and rerun \\\n",
    "everything*"
   ]
  },
  {
   "cell_type": "code",
   "execution_count": 16,
   "metadata": {},
   "outputs": [],
   "source": [
    "# delete selected samples\n",
    "delete_view = dataset[0].select(session.selected)\n",
    "dataset[0].delete_samples(delete_view)"
   ]
  },
  {
   "cell_type": "markdown",
   "metadata": {},
   "source": [
    "***"
   ]
  },
  {
   "cell_type": "markdown",
   "metadata": {},
   "source": [
    "\n",
    "6b. Config for Validation"
   ]
  },
  {
   "cell_type": "code",
   "execution_count": 49,
   "metadata": {},
   "outputs": [],
   "source": [
    "COLORS = [\"n/a\", \"red\", \"blue\", \"green\", \"yellow\", \"purple\", \"pink\", \"orange\", \"brown\", \"black\", \"white\", \"gray\", \n",
    "          \"gold\", \"silver\", \"navy blue\", \"sky blue\", \"lime green\", \"teal\", \"indigo\", \"magenta\", \"violet\", \n",
    "          \"khaki\", \"salmon\", \"crimson\", \"lavender\", \"plum\", \"blue violet\", \"olive\", \"cyan\", \"maroon\", \"beige\"]\n",
    "\n",
    "# change this to the class labels your model of choice was trained on.  \n",
    "# the default demo detectron2 and yolov7 labels are trained on COCO labels\n",
    "COCO_CLASSES=[\"person\",\"bicycle\",\"car\",\"motorcycle\",\"airplane\",\"bus\",\"train\",\"truck\",\"boat\",\"traffic light\",\"fire hydrant\", \n",
    "              \"stop sign\",\"parking meter\",\"bench\",\"bird\",\"cat\",\"dog\",\"horse\",\"sheep\",\"cow\",\"elephant\",\"bear\",\"zebra\",\n",
    "              \"giraffe\",\"backpack\",\"umbrella\",\"handbag\",\"tie\",\"suitcase\",\"frisbee\",\"skis\",\"snowboard\",\"sports ball\",\"kite\",\n",
    "              \"baseball bat\",\"baseball glove\",\"skateboard\",\"surfboard\",\"tennis racket\",\"bottle\",\"wine glass\",\"cup\",\"fork\",\n",
    "              \"knife\",\"spoon\",\"bowl\",\"banana\",\"apple\",\"sandwich\",\"orange\",\"broccoli\",\"carrot\",\"hot dog\",\"pizza\",\"donut\",\n",
    "              \"cake\",\"chair\",\"couch\",\"potted plant\",\"bed\",\"dining table\",\"toilet\",\"tv\",\"laptop\",\"mouse\",\"remote\",\"keyboard\",\n",
    "              \"cell phone\",\"microwave\",\"oven\",\"toaster\",\"sink\",\"refrigerator\",\"book\",\"clock\",\"vase\",\"scissors\",\"teddy bear\",\n",
    "              \"hair drier\", \"toothbrush\"]\n",
    "\n",
    "label_schema = {\n",
    "    \"novel_detections\": {\n",
    "        \"type\": \"detections\",\n",
    "        \"classes\": [\"novel_object\"],\n",
    "        \"attributes\": {\n",
    "            \"novelty\": {\n",
    "                \"type\": \"select\",\n",
    "                \"values\": [\"not seen before\", \"new presentation\", \"idfk\"],\n",
    "                \"default\": \"not seen before\",\n",
    "            },\n",
    "        },\n",
    "    },\n",
    "    \"model_detections\": {},\n",
    "}\n",
    "\n",
    "anno_key = \"test_run_images36\"\n",
    "launch_editor=False\n",
    "url_cvat=\"http://localhost:8080\"\n",
    "username=\"django\"\n",
    "password=\"bfc\""
   ]
  },
  {
   "cell_type": "markdown",
   "metadata": {},
   "source": [
    "6c. Run CVAT Validation\n",
    "\n",
    "Specific Metrics to Pick Data to Validate, **come up with them**\n"
   ]
  },
  {
   "cell_type": "code",
   "execution_count": 50,
   "metadata": {},
   "outputs": [
    {
     "name": "stdout",
     "output_type": "stream",
     "text": [
      "Found existing field 'model_detections' with multiple types ['detections', 'instances']. Only the 'detections' will be annotated\n",
      "Uploading samples to CVAT...\n",
      "Launching editor at 'http://localhost:8080/tasks/3/jobs/3'...\n"
     ]
    },
    {
     "data": {
      "text/plain": [
       "<fiftyone.utils.cvat.CVATAnnotationResults at 0x19a54fceee0>"
      ]
     },
     "execution_count": 50,
     "metadata": {},
     "output_type": "execute_result"
    }
   ],
   "source": [
    "# create specific view for low confidence model predictions\n",
    "low_conf_view = (\n",
    "    dataset[0] \\\n",
    "    .filter_labels(\"model_detections\", F(\"confidence\") < 0.6)\n",
    "    .sort_by(F(\"predictions.detections\").length(), reverse=True)\n",
    "    ) \\\n",
    "\n",
    "# fastdup, cleanlab\n",
    "\n",
    "sample_id = low_conf_view.head(3)\n",
    "view = dataset[0].select(sample_id)\n",
    "\n",
    "anno_keys = dataset[0].list_annotation_runs()\n",
    "\n",
    "# check if anno key already exists\n",
    "if anno_key in anno_keys:\n",
    "    # Delete tasks from CVAT\n",
    "    results = dataset[0].load_annotation_results(anno_key)\n",
    "    if results is not None:\n",
    "        results.cleanup()\n",
    "    dataset[0].delete_annotation_run(anno_key)\n",
    "\n",
    "# send samples to CVAT\n",
    "view.annotate(\n",
    "    anno_key,\n",
    "    label_schema=label_schema,\n",
    "    launch_editor=True,\n",
    "    allow_additions=True,\n",
    "    allow_deletions=False,\n",
    "    allow_label_edits=True,\n",
    "    allow_index_edits=True,\n",
    "    allow_spatial_edits=True,\n",
    "    url=\"http://localhost:8080\",\n",
    "    username=\"django\",\n",
    "    password=\"arclight\"\n",
    ")"
   ]
  },
  {
   "cell_type": "markdown",
   "metadata": {},
   "source": [
    "6d. Merge Dataset Back to Fiftyone and Cleanup CVAT"
   ]
  },
  {
   "cell_type": "code",
   "execution_count": 51,
   "metadata": {},
   "outputs": [
    {
     "name": "stdout",
     "output_type": "stream",
     "text": [
      "Downloading labels from CVAT...\n"
     ]
    },
    {
     "name": "stdout",
     "output_type": "stream",
     "text": [
      "Download complete\n",
      "Loading labels for field 'novel_detections'...\n",
      " 100% |█████████████████████| 1/1 [54.6ms elapsed, 0s remaining, 18.3 samples/s] \n",
      "Loading labels for field 'model_detections'...\n",
      "                                                                              100% |█████████████████████| 2/2 [54.7ms elapsed, 0s remaining, 36.6 samples/s] \n",
      "Deleting tasks...\n",
      " 100% |█████████████████████| 1/1 [320.4ms elapsed, 0s remaining, 3.1 samples/s] \n"
     ]
    }
   ],
   "source": [
    "# merge annotations back to Fiftyone dataset\n",
    "dataset[0].load_annotations(anno_key)\n",
    "dataset[0].load_annotation_view(anno_key)\n",
    "\n",
    "# Delete tasks from CVAT\n",
    "results = dataset[0].load_annotation_results(anno_key)\n",
    "results.cleanup()\n",
    "\n",
    "# Delete run record (not the labels) from FiftyOne\n",
    "dataset[0].delete_annotation_run(anno_key)"
   ]
  }
 ],
 "metadata": {
  "kernelspec": {
   "display_name": "detectron2",
   "language": "python",
   "name": "python3"
  },
  "language_info": {
   "codemirror_mode": {
    "name": "ipython",
    "version": 3
   },
   "file_extension": ".py",
   "mimetype": "text/x-python",
   "name": "python",
   "nbconvert_exporter": "python",
   "pygments_lexer": "ipython3",
   "version": "3.8.17"
  },
  "orig_nbformat": 4
 },
 "nbformat": 4,
 "nbformat_minor": 2
}
