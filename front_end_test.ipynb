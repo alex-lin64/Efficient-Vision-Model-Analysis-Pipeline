{
 "cells": [
  {
   "cell_type": "code",
   "execution_count": 1,
   "metadata": {},
   "outputs": [],
   "source": [
    "import fiftyone as fo\n",
    "from fiftyone import ViewField as F\n",
    "from client.yolov7_client.yolov7_triton_client import YoloV7_Triton_Inference_Client\n",
    "from client.detectron2_client.detectron2_triton_client import Detectron2_Triton_Client"
   ]
  },
  {
   "cell_type": "code",
   "execution_count": 2,
   "metadata": {},
   "outputs": [],
   "source": [
    "# start the triton inference server, either locally or on a server\n",
    "\n",
    "# docker run --gpus all --rm --ipc=host --shm-size=1g --ulimit memlock=-1 --ulimit stack=67108864 \\\n",
    "# -p8000:8000 -p8001:8001 -p8002:8002 --mount type=bind,source=\"path/to/triton/models\",destination=/models \\\n",
    "# nvcr.io/nvidia/tritonserver:22.06-py3 tritonserver --model-repository=/models --strict-model-config=false \\\n",
    "# --log-verbose 1"
   ]
  },
  {
   "cell_type": "code",
   "execution_count": 2,
   "metadata": {},
   "outputs": [
    {
     "data": {
      "text/plain": [
       "'c:\\\\Users\\\\Alex Lin\\\\Desktop\\\\baseline_system'"
      ]
     },
     "execution_count": 2,
     "metadata": {},
     "output_type": "execute_result"
    }
   ],
   "source": [
    "# make sure in baseline_system directory\n",
    "\n",
    "%pwd"
   ]
  },
  {
   "cell_type": "code",
   "execution_count": 3,
   "metadata": {},
   "outputs": [],
   "source": [
    "# initialize the client\n",
    "yolov7_client = YoloV7_Triton_Inference_Client()\n",
    "detectron2_client = Detectron2_Triton_Client(width=1344, height=1344)"
   ]
  },
  {
   "cell_type": "code",
   "execution_count": 2,
   "metadata": {},
   "outputs": [
    {
     "name": "stdout",
     "output_type": "stream",
     "text": [
      "\n",
      "Could not connect session, trying again in 10 seconds\n",
      "\n",
      "Session launched. Run `session.show()` to open the App in a cell output.\n"
     ]
    },
    {
     "data": {
      "application/javascript": "window.open('http://localhost:5151/');",
      "text/plain": [
       "<IPython.core.display.Javascript object>"
      ]
     },
     "metadata": {},
     "output_type": "display_data"
    }
   ],
   "source": [
    "# start fiftyone\n",
    "\n",
    "session = fo.launch_app(auto=False)\n",
    "session.open_tab()"
   ]
  },
  {
   "cell_type": "code",
   "execution_count": null,
   "metadata": {},
   "outputs": [],
   "source": [
    "# run the client \n",
    "\n",
    "# yolov7_client.infer_dummy()\n",
    "# yolov7_client.infer_image(input_='data/raw/images', fo_dataset=\"test_run1\")\n",
    "yolov7_client.infer_video(input_='data/raw/video', fo_dataset=\"test_run2\")\n",
    "\n",
    "# detectron2_client.infer_dummy()\n",
    "# detectron2_client.infer_image(input_='data/raw/images/test')\n",
    "# detectron2_client.infer_video(input_='data/raw/video', output_='data/inference/video')"
   ]
  },
  {
   "cell_type": "code",
   "execution_count": 5,
   "metadata": {},
   "outputs": [],
   "source": [
    "# load dataset \n",
    "dataset_name = \"test_run1\"\n",
    "dataset = fo.load_dataset(dataset_name)"
   ]
  },
  {
   "cell_type": "code",
   "execution_count": null,
   "metadata": {},
   "outputs": [],
   "source": [
    "# create specific view for low confidence model predictions\n",
    "low_conf_view = (\n",
    "    dataset\n",
    "    .filter_labels(\"model_detections\", F(\"confidence\") < 0.6)\n",
    "    .sort_by(F(\"model_detections.confidence\"), reverse=True)\n",
    ")\n",
    "\n",
    "sample_id = low_conf_view.head(3)\n",
    "view = dataset.select(sample_id)"
   ]
  },
  {
   "cell_type": "code",
   "execution_count": null,
   "metadata": {},
   "outputs": [],
   "source": [
    "# send samples to CVAT\n",
    "\n",
    "anno_key = \"test_run_images\"\n",
    "view.annotate(\n",
    "    anno_key,\n",
    "    label_field=\"ground_truth\",\n",
    "    attributes=[\"test1\", \"test2\"],\n",
    "    launch_editor=True,\n",
    "    url=\"http://localhost:8080\",\n",
    "    username=\"django\",\n",
    "    password=\"bfc\",\n",
    ")"
   ]
  },
  {
   "cell_type": "code",
   "execution_count": null,
   "metadata": {},
   "outputs": [],
   "source": [
    "# merge annotations back to Fiftyone dataset\n",
    "\n",
    "dataset.load_annotations(anno_key)\n",
    "view = dataset.load_annotation_view(anno_key)\n",
    "\n",
    "session = fo.launch_app(view=view)"
   ]
  },
  {
   "cell_type": "code",
   "execution_count": null,
   "metadata": {},
   "outputs": [],
   "source": [
    "# CVAT cleanup\n",
    "\n",
    "# Delete tasks from CVAT\n",
    "results = dataset.load_annotation_results(anno_key)\n",
    "results.cleanup()\n",
    "\n",
    "# Delete run record (not the labels) from FiftyOne\n",
    "dataset.delete_annotation_run(anno_key)"
   ]
  },
  {
   "cell_type": "code",
   "execution_count": null,
   "metadata": {},
   "outputs": [],
   "source": [
    "# delete selected samples\n",
    "view = dataset.select(session.selected)\n",
    "dataset.delete_samples(view)"
   ]
  }
 ],
 "metadata": {
  "kernelspec": {
   "display_name": "detectron2",
   "language": "python",
   "name": "python3"
  },
  "language_info": {
   "codemirror_mode": {
    "name": "ipython",
    "version": 3
   },
   "file_extension": ".py",
   "mimetype": "text/x-python",
   "name": "python",
   "nbconvert_exporter": "python",
   "pygments_lexer": "ipython3",
   "version": "3.8.17"
  },
  "orig_nbformat": 4
 },
 "nbformat": 4,
 "nbformat_minor": 2
}
