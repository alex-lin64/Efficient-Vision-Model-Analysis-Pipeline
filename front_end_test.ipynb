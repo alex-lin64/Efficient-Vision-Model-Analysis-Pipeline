{
 "cells": [
  {
   "cell_type": "code",
   "execution_count": 1,
   "metadata": {},
   "outputs": [],
   "source": [
    "import fiftyone as fo\n",
    "from client.yolov7_client.yolov7_triton_client import YoloV7_Triton_Inference_Client\n",
    "from client.detectron2_client.detectron2_triton_client import Detectron2_Triton_Client"
   ]
  },
  {
   "cell_type": "code",
   "execution_count": 2,
   "metadata": {},
   "outputs": [],
   "source": [
    "# start the triton inference server, either locally or on a server\n",
    "\n",
    "# docker run --gpus all --rm --ipc=host --shm-size=1g --ulimit memlock=-1 --ulimit stack=67108864 \\\n",
    "# -p8000:8000 -p8001:8001 -p8002:8002 --mount type=bind,source=\"path/to/triton/models\",destination=/models \\\n",
    "# nvcr.io/nvidia/tritonserver:22.06-py3 tritonserver --model-repository=/models --strict-model-config=false \\\n",
    "# --log-verbose 1"
   ]
  },
  {
   "cell_type": "code",
   "execution_count": 2,
   "metadata": {},
   "outputs": [
    {
     "data": {
      "text/plain": [
       "'c:\\\\Users\\\\Alex Lin\\\\Desktop\\\\baseline_system'"
      ]
     },
     "execution_count": 2,
     "metadata": {},
     "output_type": "execute_result"
    }
   ],
   "source": [
    "# make sure in baseline_system directory\n",
    "\n",
    "%pwd"
   ]
  },
  {
   "cell_type": "code",
   "execution_count": 2,
   "metadata": {},
   "outputs": [
    {
     "ename": "KeyboardInterrupt",
     "evalue": "",
     "output_type": "error",
     "traceback": [
      "\u001b[1;31m---------------------------------------------------------------------------\u001b[0m",
      "\u001b[1;31mKeyboardInterrupt\u001b[0m                         Traceback (most recent call last)",
      "Cell \u001b[1;32mIn[2], line 2\u001b[0m\n\u001b[0;32m      1\u001b[0m \u001b[39m# initialize the client\u001b[39;00m\n\u001b[1;32m----> 2\u001b[0m yolov7_client \u001b[39m=\u001b[39m YoloV7_Triton_Inference_Client()\n\u001b[0;32m      3\u001b[0m detectron2_client \u001b[39m=\u001b[39m Detectron2_Triton_Client(width\u001b[39m=\u001b[39m\u001b[39m1344\u001b[39m, height\u001b[39m=\u001b[39m\u001b[39m1344\u001b[39m)\n",
      "File \u001b[1;32mc:\\Users\\Alex Lin\\Desktop\\baseline_system\\client\\yolov7_client\\yolov7_triton_client.py:50\u001b[0m, in \u001b[0;36mYoloV7_Triton_Inference_Client.__init__\u001b[1;34m(self, url, model_info, verbose, client_timeout, ssl, root_certificates, private_key, certificate_chain, width, height)\u001b[0m\n\u001b[0;32m     47\u001b[0m \u001b[39m#  array of names for the model output\u001b[39;00m\n\u001b[0;32m     48\u001b[0m \u001b[39m#   this should match the names of inputs and outputs of the config file \u001b[39;00m\n\u001b[0;32m     49\u001b[0m \u001b[39mself\u001b[39m\u001b[39m.\u001b[39moutput_names \u001b[39m=\u001b[39m [\u001b[39m\"\u001b[39m\u001b[39mnum_dets\u001b[39m\u001b[39m\"\u001b[39m, \u001b[39m\"\u001b[39m\u001b[39mdet_boxes\u001b[39m\u001b[39m\"\u001b[39m, \u001b[39m\"\u001b[39m\u001b[39mdet_scores\u001b[39m\u001b[39m\"\u001b[39m, \u001b[39m\"\u001b[39m\u001b[39mdet_classes\u001b[39m\u001b[39m\"\u001b[39m]\n\u001b[1;32m---> 50\u001b[0m \u001b[39msuper\u001b[39;49m()\u001b[39m.\u001b[39;49m\u001b[39m__init__\u001b[39;49m(\n\u001b[0;32m     51\u001b[0m     input_names\u001b[39m=\u001b[39;49m\u001b[39mself\u001b[39;49m\u001b[39m.\u001b[39;49minput_names,\n\u001b[0;32m     52\u001b[0m     output_names\u001b[39m=\u001b[39;49m\u001b[39mself\u001b[39;49m\u001b[39m.\u001b[39;49moutput_names,\n\u001b[0;32m     53\u001b[0m     model\u001b[39m=\u001b[39;49m\u001b[39mself\u001b[39;49m\u001b[39m.\u001b[39;49mmodel,\n\u001b[0;32m     54\u001b[0m     url\u001b[39m=\u001b[39;49murl,\n\u001b[0;32m     55\u001b[0m     model_info\u001b[39m=\u001b[39;49mmodel_info,\n\u001b[0;32m     56\u001b[0m     verbose\u001b[39m=\u001b[39;49mverbose,\n\u001b[0;32m     57\u001b[0m     client_timeout\u001b[39m=\u001b[39;49mclient_timeout,\n\u001b[0;32m     58\u001b[0m     ssl\u001b[39m=\u001b[39;49mssl,\n\u001b[0;32m     59\u001b[0m     root_certificates\u001b[39m=\u001b[39;49mroot_certificates,\n\u001b[0;32m     60\u001b[0m     private_key\u001b[39m=\u001b[39;49mprivate_key,\n\u001b[0;32m     61\u001b[0m     certificate_chain\u001b[39m=\u001b[39;49mcertificate_chain,\n\u001b[0;32m     62\u001b[0m     width\u001b[39m=\u001b[39;49mwidth,\n\u001b[0;32m     63\u001b[0m     height\u001b[39m=\u001b[39;49mheight\n\u001b[0;32m     64\u001b[0m     )\n",
      "File \u001b[1;32mc:\\Users\\Alex Lin\\Desktop\\baseline_system\\client\\base_triton_client.py:103\u001b[0m, in \u001b[0;36mBase_Inference_Client.__init__\u001b[1;34m(self, input_names, output_names, model, url, model_info, verbose, client_timeout, ssl, root_certificates, private_key, certificate_chain, width, height)\u001b[0m\n\u001b[0;32m    100\u001b[0m     sys\u001b[39m.\u001b[39mexit()\n\u001b[0;32m    102\u001b[0m \u001b[39m# server health check\u001b[39;00m\n\u001b[1;32m--> 103\u001b[0m \u001b[39mif\u001b[39;00m \u001b[39mnot\u001b[39;00m \u001b[39mself\u001b[39;49m\u001b[39m.\u001b[39;49m__triton_client\u001b[39m.\u001b[39;49mis_server_live():\n\u001b[0;32m    104\u001b[0m     \u001b[39mprint\u001b[39m(\u001b[39m\"\u001b[39m\u001b[39mFAILED: is_server_live\u001b[39m\u001b[39m\"\u001b[39m)\n\u001b[0;32m    105\u001b[0m     sys\u001b[39m.\u001b[39mexit(\u001b[39m1\u001b[39m)\n",
      "File \u001b[1;32mc:\\Users\\Alex Lin\\.conda\\envs\\detectron2\\lib\\site-packages\\tritonclient\\grpc\\_client.py:256\u001b[0m, in \u001b[0;36mInferenceServerClient.is_server_live\u001b[1;34m(self, headers)\u001b[0m\n\u001b[0;32m    253\u001b[0m \u001b[39mif\u001b[39;00m \u001b[39mself\u001b[39m\u001b[39m.\u001b[39m_verbose:\n\u001b[0;32m    254\u001b[0m     \u001b[39mprint\u001b[39m(\u001b[39m\"\u001b[39m\u001b[39mis_server_live, metadata \u001b[39m\u001b[39m{}\u001b[39;00m\u001b[39m\\n\u001b[39;00m\u001b[39m{}\u001b[39;00m\u001b[39m\"\u001b[39m\u001b[39m.\u001b[39mformat(\n\u001b[0;32m    255\u001b[0m         metadata, request))\n\u001b[1;32m--> 256\u001b[0m response \u001b[39m=\u001b[39m \u001b[39mself\u001b[39;49m\u001b[39m.\u001b[39;49m_client_stub\u001b[39m.\u001b[39;49mServerLive(request\u001b[39m=\u001b[39;49mrequest,\n\u001b[0;32m    257\u001b[0m                                         metadata\u001b[39m=\u001b[39;49mmetadata)\n\u001b[0;32m    258\u001b[0m \u001b[39mif\u001b[39;00m \u001b[39mself\u001b[39m\u001b[39m.\u001b[39m_verbose:\n\u001b[0;32m    259\u001b[0m     \u001b[39mprint\u001b[39m(response)\n",
      "File \u001b[1;32mc:\\Users\\Alex Lin\\.conda\\envs\\detectron2\\lib\\site-packages\\grpc\\_channel.py:1028\u001b[0m, in \u001b[0;36m_UnaryUnaryMultiCallable.__call__\u001b[1;34m(self, request, timeout, metadata, credentials, wait_for_ready, compression)\u001b[0m\n\u001b[0;32m   1021\u001b[0m \u001b[39mdef\u001b[39;00m \u001b[39m__call__\u001b[39m(\u001b[39mself\u001b[39m,\n\u001b[0;32m   1022\u001b[0m              request: Any,\n\u001b[0;32m   1023\u001b[0m              timeout: Optional[\u001b[39mfloat\u001b[39m] \u001b[39m=\u001b[39m \u001b[39mNone\u001b[39;00m,\n\u001b[1;32m   (...)\u001b[0m\n\u001b[0;32m   1026\u001b[0m              wait_for_ready: Optional[\u001b[39mbool\u001b[39m] \u001b[39m=\u001b[39m \u001b[39mNone\u001b[39;00m,\n\u001b[0;32m   1027\u001b[0m              compression: Optional[grpc\u001b[39m.\u001b[39mCompression] \u001b[39m=\u001b[39m \u001b[39mNone\u001b[39;00m) \u001b[39m-\u001b[39m\u001b[39m>\u001b[39m Any:\n\u001b[1;32m-> 1028\u001b[0m     state, call, \u001b[39m=\u001b[39m \u001b[39mself\u001b[39;49m\u001b[39m.\u001b[39;49m_blocking(request, timeout, metadata, credentials,\n\u001b[0;32m   1029\u001b[0m                                   wait_for_ready, compression)\n\u001b[0;32m   1030\u001b[0m     \u001b[39mreturn\u001b[39;00m _end_unary_response_blocking(state, call, \u001b[39mFalse\u001b[39;00m, \u001b[39mNone\u001b[39;00m)\n",
      "File \u001b[1;32mc:\\Users\\Alex Lin\\.conda\\envs\\detectron2\\lib\\site-packages\\grpc\\_channel.py:1017\u001b[0m, in \u001b[0;36m_UnaryUnaryMultiCallable._blocking\u001b[1;34m(self, request, timeout, metadata, credentials, wait_for_ready, compression)\u001b[0m\n\u001b[0;32m   1009\u001b[0m \u001b[39melse\u001b[39;00m:\n\u001b[0;32m   1010\u001b[0m     call \u001b[39m=\u001b[39m \u001b[39mself\u001b[39m\u001b[39m.\u001b[39m_channel\u001b[39m.\u001b[39msegregated_call(\n\u001b[0;32m   1011\u001b[0m         cygrpc\u001b[39m.\u001b[39mPropagationConstants\u001b[39m.\u001b[39mGRPC_PROPAGATE_DEFAULTS,\n\u001b[0;32m   1012\u001b[0m         \u001b[39mself\u001b[39m\u001b[39m.\u001b[39m_method, \u001b[39mNone\u001b[39;00m, _determine_deadline(deadline), metadata,\n\u001b[1;32m   (...)\u001b[0m\n\u001b[0;32m   1015\u001b[0m             \u001b[39mNone\u001b[39;00m,\n\u001b[0;32m   1016\u001b[0m         ),), \u001b[39mself\u001b[39m\u001b[39m.\u001b[39m_context)\n\u001b[1;32m-> 1017\u001b[0m     event \u001b[39m=\u001b[39m call\u001b[39m.\u001b[39;49mnext_event()\n\u001b[0;32m   1018\u001b[0m     _handle_event(event, state, \u001b[39mself\u001b[39m\u001b[39m.\u001b[39m_response_deserializer)\n\u001b[0;32m   1019\u001b[0m     \u001b[39mreturn\u001b[39;00m state, call\n",
      "File \u001b[1;32msrc\\python\\grpcio\\grpc\\_cython\\_cygrpc/channel.pyx.pxi:338\u001b[0m, in \u001b[0;36mgrpc._cython.cygrpc.SegregatedCall.next_event\u001b[1;34m()\u001b[0m\n",
      "File \u001b[1;32msrc\\python\\grpcio\\grpc\\_cython\\_cygrpc/channel.pyx.pxi:169\u001b[0m, in \u001b[0;36mgrpc._cython.cygrpc._next_call_event\u001b[1;34m()\u001b[0m\n",
      "File \u001b[1;32msrc\\python\\grpcio\\grpc\\_cython\\_cygrpc/channel.pyx.pxi:163\u001b[0m, in \u001b[0;36mgrpc._cython.cygrpc._next_call_event\u001b[1;34m()\u001b[0m\n",
      "File \u001b[1;32msrc\\python\\grpcio\\grpc\\_cython\\_cygrpc/completion_queue.pyx.pxi:78\u001b[0m, in \u001b[0;36mgrpc._cython.cygrpc._latent_event\u001b[1;34m()\u001b[0m\n",
      "File \u001b[1;32msrc\\python\\grpcio\\grpc\\_cython\\_cygrpc/completion_queue.pyx.pxi:61\u001b[0m, in \u001b[0;36mgrpc._cython.cygrpc._internal_latent_event\u001b[1;34m()\u001b[0m\n",
      "File \u001b[1;32msrc\\python\\grpcio\\grpc\\_cython\\_cygrpc/completion_queue.pyx.pxi:42\u001b[0m, in \u001b[0;36mgrpc._cython.cygrpc._next\u001b[1;34m()\u001b[0m\n",
      "\u001b[1;31mKeyboardInterrupt\u001b[0m: "
     ]
    }
   ],
   "source": [
    "# initialize the client\n",
    "yolov7_client = YoloV7_Triton_Inference_Client()\n",
    "detectron2_client = Detectron2_Triton_Client(width=1344, height=1344)"
   ]
  },
  {
   "cell_type": "code",
   "execution_count": 3,
   "metadata": {},
   "outputs": [
    {
     "name": "stdout",
     "output_type": "stream",
     "text": [
      "\n",
      "Could not connect session, trying again in 10 seconds\n",
      "\n",
      "Session launched. Run `session.show()` to open the App in a cell output.\n"
     ]
    },
    {
     "data": {
      "application/javascript": "window.open('http://localhost:5151/');",
      "text/plain": [
       "<IPython.core.display.Javascript object>"
      ]
     },
     "metadata": {},
     "output_type": "display_data"
    }
   ],
   "source": [
    "# start fiftyone\n",
    "\n",
    "session = fo.launch_app(auto=False)\n",
    "session.open_tab()"
   ]
  },
  {
   "cell_type": "code",
   "execution_count": 5,
   "metadata": {},
   "outputs": [],
   "source": [
    "# load dataset \n",
    "dataset_name = \"test_run1\"\n",
    "dataset = fo.load_dataset(dataset_name)"
   ]
  },
  {
   "cell_type": "code",
   "execution_count": null,
   "metadata": {},
   "outputs": [],
   "source": [
    "view = dataset.select(session.selected)\n",
    "\n",
    "# delete selected samples\n",
    "dataset.delete_samples(view)"
   ]
  },
  {
   "cell_type": "code",
   "execution_count": 4,
   "metadata": {},
   "outputs": [
    {
     "name": "stdout",
     "output_type": "stream",
     "text": [
      "Running in 'video' mode\n",
      "Done.\n",
      "Opening input video stream...\n"
     ]
    },
    {
     "name": "stdout",
     "output_type": "stream",
     "text": [
      "Invoking inference...\n",
      "Frame 1: 2 objects\n",
      "Frame 2: 2 objects\n",
      "Frame 3: 2 objects\n",
      "Frame 4: 2 objects\n",
      "Frame 5: 2 objects\n",
      "Frame 6: 2 objects\n",
      "Frame 7: 2 objects\n",
      "Frame 8: 2 objects\n",
      "Frame 9: 2 objects\n",
      "Frame 10: 2 objects\n",
      "Frame 11: 2 objects\n",
      "Frame 12: 2 objects\n",
      "Frame 13: 2 objects\n",
      "Frame 14: 2 objects\n",
      "Frame 15: 2 objects\n",
      "Frame 16: 2 objects\n",
      "Frame 17: 2 objects\n",
      "Frame 18: 2 objects\n",
      "Frame 19: 2 objects\n",
      "Frame 20: 2 objects\n",
      "Frame 21: 2 objects\n",
      "Frame 22: 2 objects\n",
      "Frame 23: 2 objects\n",
      "Frame 24: 2 objects\n",
      "Frame 25: 2 objects\n",
      "Frame 26: 2 objects\n",
      "Frame 27: 2 objects\n",
      "Frame 28: 2 objects\n",
      "Frame 29: 2 objects\n",
      "Frame 30: 2 objects\n",
      "Frame 31: 2 objects\n",
      "Frame 32: 2 objects\n",
      "Frame 33: 2 objects\n",
      "Frame 34: 2 objects\n",
      "Frame 35: 2 objects\n",
      "Frame 36: 2 objects\n",
      "Frame 37: 2 objects\n",
      "Frame 38: 2 objects\n",
      "Frame 39: 2 objects\n",
      "Frame 40: 2 objects\n",
      "Frame 41: 2 objects\n",
      "Frame 42: 2 objects\n",
      "Frame 43: 2 objects\n",
      "Frame 44: 2 objects\n",
      "Frame 45: 2 objects\n",
      "Frame 46: 2 objects\n",
      "Frame 47: 2 objects\n",
      "Frame 48: 2 objects\n",
      "Frame 49: 2 objects\n",
      "Frame 50: 2 objects\n",
      "Frame 51: 2 objects\n",
      "Frame 52: 2 objects\n",
      "Frame 53: 2 objects\n",
      "Frame 54: 2 objects\n",
      "Frame 55: 2 objects\n",
      "Frame 56: 2 objects\n",
      "Frame 57: 2 objects\n",
      "Frame 58: 2 objects\n",
      "Frame 59: 2 objects\n",
      "failed to fetch next frame\n",
      "1 {'detections': [], 'tags': ['validation']}\n",
      "2 {'detections': [], 'tags': ['validation']}\n",
      "3 {'detections': [], 'tags': ['validation']}\n",
      "4 {'detections': [], 'tags': ['validation']}\n",
      "5 {'detections': [], 'tags': ['validation']}\n",
      "6 {'detections': [{'bbox': [0.296875, 0.06944444444444445, 0.4421875, 0.7620370370370371], 'label': 'PERSON', 'confidence': 0.40949547}], 'tags': ['validation']}\n",
      "7 {'detections': [{'bbox': [0.29739583333333336, 0.06944444444444445, 0.44114583333333335, 0.7648148148148148], 'label': 'PERSON', 'confidence': 0.45986724}], 'tags': ['validation']}\n",
      "8 {'detections': [{'bbox': [0.328125, 0.06944444444444445, 0.34322916666666664, 0.7564814814814815], 'label': 'TRAFFIC_LIGHT', 'confidence': 0.39593983}], 'tags': ['validation']}\n",
      "9 {'detections': [{'bbox': [0.328125, 0.06851851851851852, 0.34375, 0.7620370370370371], 'label': 'TRAFFIC_LIGHT', 'confidence': 0.39233243}], 'tags': ['validation']}\n",
      "10 {'detections': [{'bbox': [0.3546875, 0.06944444444444445, 0.3541666666666667, 0.7648148148148148], 'label': 'PERSON', 'confidence': 0.49820542}], 'tags': ['validation']}\n",
      "11 {'detections': [{'bbox': [0.35833333333333334, 0.06944444444444445, 0.35052083333333334, 0.787962962962963], 'label': 'PERSON', 'confidence': 0.5746889}], 'tags': ['validation']}\n",
      "12 {'detections': [{'bbox': [0.3567708333333333, 0.06851851851851852, 0.3828125, 0.8064814814814815], 'label': 'PERSON', 'confidence': 0.68909454}], 'tags': ['validation']}\n",
      "13 {'detections': [{'bbox': [0.35520833333333335, 0.06944444444444445, 0.3875, 0.8055555555555556], 'label': 'PERSON', 'confidence': 0.83779335}, {'bbox': [0.8328125, 0.11296296296296296, 0.024479166666666666, 0.03611111111111111], 'label': 'KITE', 'confidence': 0.47870332}, {'bbox': [0.8322916666666667, 0.11296296296296296, 0.025520833333333333, 0.03611111111111111], 'label': 'BIRD', 'confidence': 0.4098137}], 'tags': ['validation']}\n",
      "14 {'detections': [{'bbox': [0.35104166666666664, 0.07037037037037037, 0.39114583333333336, 0.8611111111111112], 'label': 'PERSON', 'confidence': 0.7623725}], 'tags': ['validation']}\n",
      "15 {'detections': [{'bbox': [0.3541666666666667, 0.07222222222222222, 0.3890625, 0.8648148148148148], 'label': 'PERSON', 'confidence': 0.7888818}], 'tags': ['validation']}\n",
      "16 {'detections': [{'bbox': [0.3640625, 0.07222222222222222, 0.378125, 0.8648148148148148], 'label': 'PERSON', 'confidence': 0.8590236}], 'tags': ['validation']}\n",
      "17 {'detections': [{'bbox': [0.3640625, 0.07222222222222222, 0.37864583333333335, 0.8648148148148148], 'label': 'PERSON', 'confidence': 0.85463333}], 'tags': ['validation']}\n",
      "18 {'detections': [{'bbox': [0.36822916666666666, 0.0712962962962963, 0.37447916666666664, 0.8648148148148148], 'label': 'PERSON', 'confidence': 0.84130526}], 'tags': ['validation']}\n",
      "19 {'detections': [{'bbox': [0.3640625, 0.06944444444444445, 0.37864583333333335, 0.8685185185185185], 'label': 'PERSON', 'confidence': 0.80321}], 'tags': ['validation']}\n",
      "20 {'detections': [{'bbox': [0.35989583333333336, 0.07314814814814814, 0.38229166666666664, 0.8629629629629629], 'label': 'PERSON', 'confidence': 0.7824383}], 'tags': ['validation']}\n",
      "21 {'detections': [{'bbox': [0.34791666666666665, 0.07037037037037037, 0.39427083333333335, 0.862037037037037], 'label': 'PERSON', 'confidence': 0.9126401}], 'tags': ['validation']}\n",
      "22 {'detections': [{'bbox': [0.34791666666666665, 0.07037037037037037, 0.39427083333333335, 0.862037037037037], 'label': 'PERSON', 'confidence': 0.91459227}], 'tags': ['validation']}\n",
      "23 {'detections': [{'bbox': [0.334375, 0.07037037037037037, 0.4078125, 0.8601851851851852], 'label': 'PERSON', 'confidence': 0.95751953}], 'tags': ['validation']}\n",
      "24 {'detections': [{'bbox': [0.3338541666666667, 0.07037037037037037, 0.4083333333333333, 0.8601851851851852], 'label': 'PERSON', 'confidence': 0.95703125}], 'tags': ['validation']}\n",
      "25 {'detections': [{'bbox': [0.31927083333333334, 0.0712962962962963, 0.42291666666666666, 0.8611111111111112], 'label': 'PERSON', 'confidence': 0.96240234}], 'tags': ['validation']}\n",
      "26 {'detections': [{'bbox': [0.3098958333333333, 0.07222222222222222, 0.43072916666666666, 0.8601851851851852], 'label': 'PERSON', 'confidence': 0.9614258}], 'tags': ['validation']}\n",
      "27 {'detections': [{'bbox': [0.30833333333333335, 0.07222222222222222, 0.4265625, 0.8601851851851852], 'label': 'PERSON', 'confidence': 0.95996094}], 'tags': ['validation']}\n",
      "28 {'detections': [{'bbox': [0.3015625, 0.07314814814814814, 0.42239583333333336, 0.8611111111111112], 'label': 'PERSON', 'confidence': 0.9550781}], 'tags': ['validation']}\n",
      "29 {'detections': [{'bbox': [0.3015625, 0.07222222222222222, 0.42239583333333336, 0.8611111111111112], 'label': 'PERSON', 'confidence': 0.95654297}], 'tags': ['validation']}\n",
      "30 {'detections': [{'bbox': [0.30416666666666664, 0.07314814814814814, 0.42083333333333334, 0.8601851851851852], 'label': 'PERSON', 'confidence': 0.95214844}], 'tags': ['validation']}\n",
      "31 {'detections': [{'bbox': [0.3078125, 0.07314814814814814, 0.41770833333333335, 0.8601851851851852], 'label': 'PERSON', 'confidence': 0.9584961}], 'tags': ['validation']}\n",
      "32 {'detections': [{'bbox': [0.3098958333333333, 0.07314814814814814, 0.41822916666666665, 0.8601851851851852], 'label': 'PERSON', 'confidence': 0.9550781}], 'tags': ['validation']}\n",
      "33 {'detections': [{'bbox': [0.3151041666666667, 0.07222222222222222, 0.42083333333333334, 0.862037037037037], 'label': 'PERSON', 'confidence': 0.95458984}], 'tags': ['validation']}\n",
      "34 {'detections': [{'bbox': [0.3151041666666667, 0.07222222222222222, 0.42083333333333334, 0.8611111111111112], 'label': 'PERSON', 'confidence': 0.95458984}], 'tags': ['validation']}\n",
      "35 {'detections': [{'bbox': [0.31875, 0.07314814814814814, 0.42083333333333334, 0.8611111111111112], 'label': 'PERSON', 'confidence': 0.9585161}], 'tags': ['validation']}\n",
      "36 {'detections': [{'bbox': [0.3223958333333333, 0.07314814814814814, 0.42135416666666664, 0.8611111111111112], 'label': 'PERSON', 'confidence': 0.9589844}], 'tags': ['validation']}\n",
      "37 {'detections': [{'bbox': [0.31979166666666664, 0.07314814814814814, 0.42291666666666666, 0.8611111111111112], 'label': 'PERSON', 'confidence': 0.95947266}], 'tags': ['validation']}\n",
      "38 {'detections': [{'bbox': [0.32135416666666666, 0.07222222222222222, 0.421875, 0.8629629629629629], 'label': 'PERSON', 'confidence': 0.9560547}], 'tags': ['validation']}\n",
      "39 {'detections': [{'bbox': [0.32135416666666666, 0.07314814814814814, 0.421875, 0.8611111111111112], 'label': 'PERSON', 'confidence': 0.95703125}], 'tags': ['validation']}\n",
      "40 {'detections': [{'bbox': [0.32395833333333335, 0.07314814814814814, 0.41875, 0.8601851851851852], 'label': 'PERSON', 'confidence': 0.96191406}], 'tags': ['validation']}\n",
      "41 {'detections': [{'bbox': [0.32083333333333336, 0.07314814814814814, 0.421875, 0.8601851851851852], 'label': 'PERSON', 'confidence': 0.96191406}], 'tags': ['validation']}\n",
      "42 {'detections': [{'bbox': [0.31979166666666664, 0.07314814814814814, 0.4234375, 0.8601851851851852], 'label': 'PERSON', 'confidence': 0.96191406}], 'tags': ['validation']}\n",
      "43 {'detections': [{'bbox': [0.31979166666666664, 0.07314814814814814, 0.42291666666666666, 0.8611111111111112], 'label': 'PERSON', 'confidence': 0.9589844}], 'tags': ['validation']}\n",
      "44 {'detections': [{'bbox': [0.31979166666666664, 0.07314814814814814, 0.42291666666666666, 0.8611111111111112], 'label': 'PERSON', 'confidence': 0.9614258}], 'tags': ['validation']}\n",
      "45 {'detections': [{'bbox': [0.3177083333333333, 0.07222222222222222, 0.42083333333333334, 0.862037037037037], 'label': 'PERSON', 'confidence': 0.9580078}], 'tags': ['validation']}\n",
      "46 {'detections': [{'bbox': [0.3125, 0.07314814814814814, 0.4197916666666667, 0.8611111111111112], 'label': 'PERSON', 'confidence': 0.9536133}], 'tags': ['validation']}\n",
      "47 {'detections': [{'bbox': [0.3078125, 0.07314814814814814, 0.4270833333333333, 0.8629629629629629], 'label': 'PERSON', 'confidence': 0.9580078}], 'tags': ['validation']}\n",
      "48 {'detections': [{'bbox': [0.2921875, 0.07222222222222222, 0.4359375, 0.8629629629629629], 'label': 'PERSON', 'confidence': 0.9477539}], 'tags': ['validation']}\n",
      "49 {'detections': [{'bbox': [0.290625, 0.07314814814814814, 0.43645833333333334, 0.8629629629629629], 'label': 'PERSON', 'confidence': 0.9423828}], 'tags': ['validation']}\n",
      "50 {'detections': [{'bbox': [0.28125, 0.07314814814814814, 0.4421875, 0.8611111111111112], 'label': 'PERSON', 'confidence': 0.882982}], 'tags': ['validation']}\n",
      "51 {'detections': [{'bbox': [0.27239583333333334, 0.07222222222222222, 0.44375, 0.8629629629629629], 'label': 'PERSON', 'confidence': 0.8917582}], 'tags': ['validation']}\n",
      "52 {'detections': [{'bbox': [0.2708333333333333, 0.0712962962962963, 0.4421875, 0.8629629629629629], 'label': 'PERSON', 'confidence': 0.9156089}], 'tags': ['validation']}\n",
      "53 {'detections': [{'bbox': [0.2677083333333333, 0.0712962962962963, 0.44375, 0.8666666666666667], 'label': 'PERSON', 'confidence': 0.93264985}], 'tags': ['validation']}\n",
      "54 {'detections': [{'bbox': [0.26875, 0.07037037037037037, 0.4421875, 0.8666666666666667], 'label': 'PERSON', 'confidence': 0.9287455}], 'tags': ['validation']}\n",
      "55 {'detections': [{'bbox': [0.2703125, 0.0712962962962963, 0.4375, 0.8666666666666667], 'label': 'PERSON', 'confidence': 0.9321618}], 'tags': ['validation']}\n",
      "56 {'detections': [{'bbox': [0.290625, 0.0712962962962963, 0.41302083333333334, 0.8657407407407407], 'label': 'PERSON', 'confidence': 0.84836483}], 'tags': ['validation']}\n",
      "57 {'detections': [{'bbox': [0.31145833333333334, 0.0712962962962963, 0.38697916666666665, 0.8638888888888889], 'label': 'PERSON', 'confidence': 0.90531945}], 'tags': ['validation']}\n",
      "58 {'detections': [{'bbox': [0.31927083333333334, 0.0712962962962963, 0.3765625, 0.862037037037037], 'label': 'PERSON', 'confidence': 0.9272814}], 'tags': ['validation']}\n",
      "59 {'detections': [{'bbox': [0.31927083333333334, 0.0712962962962963, 0.3765625, 0.862037037037037], 'label': 'PERSON', 'confidence': 0.9272814}], 'tags': ['validation']}\n",
      "Dataset does not exist in fiftyone, creating new                   dataset by default.  Make sure the dataset set to persistent                   if using existing fiftyone datset\n",
      "[<Sample: {\n",
      "    'id': None,\n",
      "    'media_type': 'video',\n",
      "    'filepath': 'c:\\\\Users\\\\Alex Lin\\\\Desktop\\\\baseline_system\\\\data\\\\raw\\\\video\\\\small\\\\4.mp4',\n",
      "    'tags': ['validation'],\n",
      "    'metadata': None,\n",
      "    'frames': <Frames: 59>,\n",
      "}>]\n",
      " 100% |█████████████████████| 1/1 [252.4ms elapsed, 0s remaining, 4.0 samples/s] \n"
     ]
    }
   ],
   "source": [
    "# run the client \n",
    "\n",
    "# yolov7_client.infer_dummy()\n",
    "# yolov7_client.infer_image(input_='data/raw/images', fo_dataset=\"test_run1\")\n",
    "yolov7_client.infer_video(input_='data/raw/video/small', fo_dataset=\"test_run2\")\n",
    "\n",
    "# detectron2_client.infer_dummy()\n",
    "# detectron2_client.infer_image(input_='data/raw/images/test')\n",
    "# detectron2_client.infer_video(input_='data/raw/video', output_='data/inference/video')"
   ]
  }
 ],
 "metadata": {
  "kernelspec": {
   "display_name": "detectron2",
   "language": "python",
   "name": "python3"
  },
  "language_info": {
   "codemirror_mode": {
    "name": "ipython",
    "version": 3
   },
   "file_extension": ".py",
   "mimetype": "text/x-python",
   "name": "python",
   "nbconvert_exporter": "python",
   "pygments_lexer": "ipython3",
   "version": "3.8.17"
  },
  "orig_nbformat": 4
 },
 "nbformat": 4,
 "nbformat_minor": 2
}
