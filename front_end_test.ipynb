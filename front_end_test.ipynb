{
 "cells": [
  {
   "cell_type": "code",
   "execution_count": 1,
   "metadata": {},
   "outputs": [],
   "source": [
    "import fiftyone as fo\n",
    "from client.yolov7_client.yolov7_triton_client import YoloV7_Triton_Inference_Client\n",
    "from client.detectron2_client.detectron2_triton_client import Detectron2_Triton_Client"
   ]
  },
  {
   "cell_type": "code",
   "execution_count": null,
   "metadata": {},
   "outputs": [],
   "source": [
    "# start the triton inference server, either locally or on a server\n",
    "\n",
    "# docker run --gpus all --rm --ipc=host --shm-size=1g --ulimit memlock=-1 --ulimit stack=67108864 \\\n",
    "# -p8000:8000 -p8001:8001 -p8002:8002 --mount type=bind,source=\"path/to/triton/models\",destination=/models \\\n",
    "# nvcr.io/nvidia/tritonserver:22.06-py3 tritonserver --model-repository=/models --strict-model-config=false \\\n",
    "# --log-verbose 1"
   ]
  },
  {
   "cell_type": "code",
   "execution_count": 19,
   "metadata": {},
   "outputs": [],
   "source": [
    "# initialize the client\n",
    "yolov7_client = YoloV7_Triton_Inference_Client()\n",
    "detectron2_client = Detectron2_Triton_Client(width=1344, height=1344)"
   ]
  },
  {
   "cell_type": "code",
   "execution_count": 4,
   "metadata": {},
   "outputs": [
    {
     "name": "stdout",
     "output_type": "stream",
     "text": [
      "Connected to FiftyOne on port 5151 at localhost.\n",
      "If you are not connecting to a remote session, you may need to start a new session and specify a port\n",
      "Session launched. Run `session.show()` to open the App in a cell output.\n"
     ]
    },
    {
     "data": {
      "application/javascript": "window.open('http://localhost:5151/');",
      "text/plain": [
       "<IPython.core.display.Javascript object>"
      ]
     },
     "metadata": {},
     "output_type": "display_data"
    }
   ],
   "source": [
    "# start fiftyone\n",
    "\n",
    "session = fo.launch_app(auto=False)\n",
    "session.open_tab()"
   ]
  },
  {
   "cell_type": "code",
   "execution_count": 22,
   "metadata": {},
   "outputs": [],
   "source": [
    "# load dataset\n",
    "dataset_name = \"test_run1\"\n",
    "dataset = fo.load_dataset(dataset_name)\n",
    "view = dataset.select(session.selected)\n",
    "\n",
    "# delete selected samples\n",
    "dataset.delete_samples(view)"
   ]
  },
  {
   "cell_type": "code",
   "execution_count": 21,
   "metadata": {},
   "outputs": [
    {
     "name": "stdout",
     "output_type": "stream",
     "text": [
      "Running in 'image' mode\n",
      "Done\n",
      "Creating buffer from image file...\n",
      "Invoking inference...\n"
     ]
    },
    {
     "name": "stdout",
     "output_type": "stream",
     "text": [
      "Received result buffer \"num_dets\" of size (1, 1)\n",
      "Naive buffer sum: 1\n",
      "Received result buffer \"det_boxes\" of size (1, 100, 4)\n",
      "Naive buffer sum: 1189.5\n",
      "Received result buffer \"det_scores\" of size (1, 100)\n",
      "Naive buffer sum: 0.9648606777191162\n",
      "Received result buffer \"det_classes\" of size (1, 100)\n",
      "Naive buffer sum: 46\n",
      "Detected objects: 2\n",
      "Creating buffer from image file...\n",
      "Invoking inference...\n",
      "Received result buffer \"num_dets\" of size (1, 1)\n",
      "Naive buffer sum: 3\n",
      "Received result buffer \"det_boxes\" of size (1, 100, 4)\n",
      "Naive buffer sum: 3692.75\n",
      "Received result buffer \"det_scores\" of size (1, 100)\n",
      "Naive buffer sum: 2.823911428451538\n",
      "Received result buffer \"det_classes\" of size (1, 100)\n",
      "Naive buffer sum: 24\n",
      "Detected objects: 2\n",
      "Creating buffer from image file...\n",
      "Invoking inference...\n",
      "Received result buffer \"num_dets\" of size (1, 1)\n",
      "Naive buffer sum: 14\n",
      "Received result buffer \"det_boxes\" of size (1, 100, 4)\n",
      "Naive buffer sum: 20810.3125\n",
      "Received result buffer \"det_scores\" of size (1, 100)\n",
      "Naive buffer sum: 9.985294342041016\n",
      "Received result buffer \"det_classes\" of size (1, 100)\n",
      "Naive buffer sum: 84\n",
      "Detected objects: 2\n",
      "Creating buffer from image file...\n",
      "Invoking inference...\n",
      "Received result buffer \"num_dets\" of size (1, 1)\n",
      "Naive buffer sum: 21\n",
      "Received result buffer \"det_boxes\" of size (1, 100, 4)\n",
      "Naive buffer sum: 24001.84375\n",
      "Received result buffer \"det_scores\" of size (1, 100)\n",
      "Naive buffer sum: 12.39712142944336\n",
      "Received result buffer \"det_classes\" of size (1, 100)\n",
      "Naive buffer sum: 915\n",
      "Detected objects: 2\n",
      " 100% |█████████████████████| 4/4 [108.4ms elapsed, 0s remaining, 36.9 samples/s]    \n"
     ]
    }
   ],
   "source": [
    "# run the client \n",
    "\n",
    "# yolov7_client.infer_dummy()\n",
    "yolov7_client.infer_image(input_='data/raw/images', fo_dataset=\"test_run1\")\n",
    "# yolov7_client.infer_video(input_='data/raw/video', output_='data/inference/video')\n",
    "\n",
    "# detectron2_client.infer_dummy()\n",
    "# detectron2_client.infer_image(input_='data/raw/images/test')\n",
    "# detectron2_client.infer_video(input_='data/raw/video', output_='data/inference/video')"
   ]
  }
 ],
 "metadata": {
  "kernelspec": {
   "display_name": "detectron2",
   "language": "python",
   "name": "python3"
  },
  "language_info": {
   "codemirror_mode": {
    "name": "ipython",
    "version": 3
   },
   "file_extension": ".py",
   "mimetype": "text/x-python",
   "name": "python",
   "nbconvert_exporter": "python",
   "pygments_lexer": "ipython3",
   "version": "3.9.17"
  },
  "orig_nbformat": 4
 },
 "nbformat": 4,
 "nbformat_minor": 2
}
